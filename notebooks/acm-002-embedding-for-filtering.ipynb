{
 "cells": [
  {
   "cell_type": "code",
   "execution_count": 1,
   "metadata": {},
   "outputs": [],
   "source": [
    "%load_ext autoreload\n",
    "%autoreload 2"
   ]
  },
  {
   "cell_type": "code",
   "execution_count": 2,
   "metadata": {},
   "outputs": [
    {
     "data": {
      "text/plain": [
       "publish_date     1244182\n",
       "headline_text    1244182\n",
       "dtype: int64"
      ]
     },
     "execution_count": 2,
     "metadata": {},
     "output_type": "execute_result"
    }
   ],
   "source": [
    "import pandas as pd\n",
    "from cllimate.nlp import init_nltk, process_sentence\n",
    "\n",
    "df = pd.read_csv(\"../data/processed/abcnewsFinal.csv\")\n",
    "df.count()"
   ]
  },
  {
   "cell_type": "code",
   "execution_count": 6,
   "metadata": {},
   "outputs": [
    {
     "name": "stderr",
     "output_type": "stream",
     "text": [
      "[nltk_data] Downloading package stopwords to\n",
      "[nltk_data]     /Users/anthony/nltk_data...\n",
      "[nltk_data]   Unzipping corpora/stopwords.zip.\n",
      "[nltk_data] Downloading package wordnet to /Users/anthony/nltk_data...\n",
      "[nltk_data] Downloading package omw-1.4 to /Users/anthony/nltk_data...\n"
     ]
    }
   ],
   "source": [
    "init_nltk()"
   ]
  },
  {
   "cell_type": "code",
   "execution_count": 7,
   "metadata": {},
   "outputs": [
    {
     "data": {
      "text/plain": [
       "[['aba', 'decides', 'community', 'broadcasting', 'licence'],\n",
       " ['act', 'fire', 'witness', 'must', 'aware', 'defamation'],\n",
       " ['g', 'call', 'infrastructure', 'protection', 'summit'],\n",
       " ['air', 'nz', 'staff', 'aust', 'strike', 'pay', 'rise'],\n",
       " ['air', 'nz', 'strike', 'affect', 'australian', 'traveller'],\n",
       " ['ambitious', 'olsson', 'win', 'triple', 'jump'],\n",
       " ['antic', 'delighted', 'record', 'breaking', 'barca'],\n",
       " ['aussie', 'qualifier', 'stosur', 'waste', 'four', 'memphis', 'match'],\n",
       " ['aust', 'address', 'un', 'security', 'council', 'iraq'],\n",
       " ['australia', 'locked', 'war', 'timetable', 'opp'],\n",
       " ['australia', 'contribute', '10', 'million', 'aid', 'iraq'],\n",
       " ['barca', 'take', 'record', 'robson', 'celebrates', 'birthday'],\n",
       " ['bathhouse', 'plan', 'move', 'ahead'],\n",
       " ['big', 'hope', 'launceston', 'cycling', 'championship'],\n",
       " ['big', 'plan', 'boost', 'paroo', 'water', 'supply'],\n",
       " ['blizzard', 'buries', 'united', 'state', 'bill'],\n",
       " ['brigadier', 'dismisses', 'report', 'troop', 'harassed'],\n",
       " ['british', 'combat', 'troop', 'arriving', 'daily', 'kuwait'],\n",
       " ['bryant', 'lead', 'lakers', 'double', 'overtime', 'win'],\n",
       " ['bushfire', 'victim', 'urged', 'see', 'centrelink']]"
      ]
     },
     "execution_count": 7,
     "metadata": {},
     "output_type": "execute_result"
    }
   ],
   "source": [
    "headlines = df[\"headline_text\"].values[:20].tolist()\n",
    "list(process_sentence(headlines))"
   ]
  },
  {
   "cell_type": "code",
   "execution_count": 10,
   "metadata": {},
   "outputs": [
    {
     "name": "stdout",
     "output_type": "stream",
     "text": [
      "__testing_word2vec-matrix-synopsis (-1 records): [THIS IS ONLY FOR TESTING] Word vecrors ...\n",
      "conceptnet-numberbatch-17-06-300 (1917247 records): ConceptNet Numberbatch consists of state...\n",
      "fasttext-wiki-news-subwords-300 (999999 records): 1 million word vectors trained on Wikipe...\n",
      "glove-twitter-100 (1193514 records): Pre-trained vectors based on  2B tweets,...\n",
      "glove-twitter-200 (1193514 records): Pre-trained vectors based on 2B tweets, ...\n",
      "glove-twitter-25 (1193514 records): Pre-trained vectors based on 2B tweets, ...\n",
      "glove-twitter-50 (1193514 records): Pre-trained vectors based on 2B tweets, ...\n",
      "glove-wiki-gigaword-100 (400000 records): Pre-trained vectors based on Wikipedia 2...\n",
      "glove-wiki-gigaword-200 (400000 records): Pre-trained vectors based on Wikipedia 2...\n",
      "glove-wiki-gigaword-300 (400000 records): Pre-trained vectors based on Wikipedia 2...\n",
      "glove-wiki-gigaword-50 (400000 records): Pre-trained vectors based on Wikipedia 2...\n",
      "word2vec-google-news-300 (3000000 records): Pre-trained vectors trained on a part of...\n",
      "word2vec-ruscorpora-300 (184973 records): Word2vec Continuous Skipgram vectors tra...\n"
     ]
    }
   ],
   "source": [
    "import json\n",
    "import gensim.downloader as api\n",
    "\n",
    "info = api.info()\n",
    "\n",
    "for corpus_name, corpus_data in sorted(info[\"models\"].items()):\n",
    "    print(\n",
    "        \"%s (%d records): %s\"\n",
    "        % (\n",
    "            corpus_name,\n",
    "            corpus_data.get(\"num_records\", -1),\n",
    "            corpus_data[\"description\"][:40] + \"...\",\n",
    "        )\n",
    "    )"
   ]
  },
  {
   "cell_type": "code",
   "execution_count": null,
   "metadata": {},
   "outputs": [],
   "source": []
  }
 ],
 "metadata": {
  "kernelspec": {
   "display_name": "venv",
   "language": "python",
   "name": "python3"
  },
  "language_info": {
   "codemirror_mode": {
    "name": "ipython",
    "version": 3
   },
   "file_extension": ".py",
   "mimetype": "text/x-python",
   "name": "python",
   "nbconvert_exporter": "python",
   "pygments_lexer": "ipython3",
   "version": "3.10.10"
  },
  "orig_nbformat": 4,
  "vscode": {
   "interpreter": {
    "hash": "f8085a60e42c023072d17e8faf1d8d0ad9249d2f1b5d3eff412e39ed57d07e9a"
   }
  }
 },
 "nbformat": 4,
 "nbformat_minor": 2
}
