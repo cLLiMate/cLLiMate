{
 "cells": [
  {
   "cell_type": "code",
   "execution_count": 1,
   "metadata": {},
   "outputs": [],
   "source": [
    "%load_ext autoreload\n",
    "%autoreload 2\n",
    "\n",
    "from cllimate.secrets import load_sops_secret\n",
    "\n",
    "load_sops_secret()"
   ]
  },
  {
   "attachments": {},
   "cell_type": "markdown",
   "metadata": {},
   "source": [
    "Let's figure out how big of a request we can make in a single batch."
   ]
  },
  {
   "cell_type": "code",
   "execution_count": 2,
   "metadata": {},
   "outputs": [
    {
     "data": {
      "text/plain": [
       "publish_date     1244182\n",
       "headline_text    1244182\n",
       "dtype: int64"
      ]
     },
     "execution_count": 2,
     "metadata": {},
     "output_type": "execute_result"
    }
   ],
   "source": [
    "import pandas as pd\n",
    "import openai\n",
    "\n",
    "\n",
    "df = pd.read_csv(\"../data/processed/abcnewsFinal.csv\")\n",
    "df.count()"
   ]
  },
  {
   "cell_type": "code",
   "execution_count": 19,
   "metadata": {},
   "outputs": [
    {
     "name": "stdout",
     "output_type": "stream",
     "text": [
      "CPU times: user 79.7 ms, sys: 14.7 ms, total: 94.4 ms\n",
      "Wall time: 315 ms\n",
      "CPU times: user 51.4 ms, sys: 5.31 ms, total: 56.7 ms\n",
      "Wall time: 456 ms\n",
      "CPU times: user 168 ms, sys: 52.7 ms, total: 220 ms\n",
      "Wall time: 2.09 s\n",
      "CPU times: user 343 ms, sys: 116 ms, total: 459 ms\n",
      "Wall time: 3.46 s\n"
     ]
    }
   ],
   "source": [
    "def get_embeddings(df, n):\n",
    "    headlines = df.headline_text.sample(n).tolist()\n",
    "    resp = openai.Embedding.create(input=headlines, model=\"text-embedding-ada-002\")\n",
    "    return resp\n",
    "\n",
    "\n",
    "%time _ = get_embeddings(df, 10)\n",
    "%time _ = get_embeddings(df, 100)\n",
    "%time _ = get_embeddings(df, 1000)\n",
    "%time _ = get_embeddings(df, 2000)\n",
    "# %time _ = get_embeddings(df, 4000)"
   ]
  }
 ],
 "metadata": {
  "kernelspec": {
   "display_name": "venv",
   "language": "python",
   "name": "python3"
  },
  "language_info": {
   "codemirror_mode": {
    "name": "ipython",
    "version": 3
   },
   "file_extension": ".py",
   "mimetype": "text/x-python",
   "name": "python",
   "nbconvert_exporter": "python",
   "pygments_lexer": "ipython3",
   "version": "3.10.10"
  },
  "orig_nbformat": 4,
  "vscode": {
   "interpreter": {
    "hash": "f8085a60e42c023072d17e8faf1d8d0ad9249d2f1b5d3eff412e39ed57d07e9a"
   }
  }
 },
 "nbformat": 4,
 "nbformat_minor": 2
}
