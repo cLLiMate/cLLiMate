{
 "cells": [
  {
   "attachments": {},
   "cell_type": "markdown",
   "metadata": {},
   "source": [
    "# Sentiment Analysis for Headlines"
   ]
  },
  {
   "attachments": {},
   "cell_type": "markdown",
   "metadata": {},
   "source": [
    "## Imports"
   ]
  },
  {
   "cell_type": "code",
   "execution_count": 76,
   "metadata": {},
   "outputs": [],
   "source": [
    "from transformers import pipeline"
   ]
  },
  {
   "attachments": {},
   "cell_type": "markdown",
   "metadata": {},
   "source": [
    "## Loading Model"
   ]
  },
  {
   "cell_type": "code",
   "execution_count": 77,
   "metadata": {},
   "outputs": [
    {
     "name": "stderr",
     "output_type": "stream",
     "text": [
      "Some weights of the model checkpoint at cardiffnlp/twitter-roberta-base-sentiment-latest were not used when initializing RobertaForSequenceClassification: ['roberta.pooler.dense.bias', 'roberta.pooler.dense.weight']\n",
      "- This IS expected if you are initializing RobertaForSequenceClassification from the checkpoint of a model trained on another task or with another architecture (e.g. initializing a BertForSequenceClassification model from a BertForPreTraining model).\n",
      "- This IS NOT expected if you are initializing RobertaForSequenceClassification from the checkpoint of a model that you expect to be exactly identical (initializing a BertForSequenceClassification model from a BertForSequenceClassification model).\n"
     ]
    }
   ],
   "source": [
    "from transformers import AutoModelForSequenceClassification\n",
    "from transformers import AutoTokenizer, AutoConfig\n",
    "import numpy as np\n",
    "from scipy.special import softmax\n",
    "\n",
    "\n",
    "MODEL = f\"cardiffnlp/twitter-roberta-base-sentiment-latest\"\n",
    "\n",
    "tokenizer = AutoTokenizer.from_pretrained(MODEL)\n",
    "config = AutoConfig.from_pretrained(MODEL)\n",
    "\n",
    "model = AutoModelForSequenceClassification.from_pretrained(MODEL)"
   ]
  },
  {
   "attachments": {},
   "cell_type": "markdown",
   "metadata": {},
   "source": [
    "## Calculating Sentiment"
   ]
  },
  {
   "cell_type": "code",
   "execution_count": 78,
   "metadata": {},
   "outputs": [],
   "source": [
    "def calculate_sentiment(text_input):\n",
    "    sentiment_score = []\n",
    "\n",
    "    for i in range(len(text_input)):\n",
    "        text = text_input[i]\n",
    "\n",
    "        inputs = tokenizer(text, return_tensors=\"pt\")\n",
    "        outputs = model(**inputs)\n",
    "        logits = outputs.logits\n",
    "\n",
    "        probs = softmax(logits.detach().numpy(), axis=1)\n",
    "\n",
    "        sentiment_score.append(probs[0])\n",
    "\n",
    "    sentiment_score = np.array(sentiment_score)\n",
    "    sentiment_label = np.argmax(sentiment_score, axis=1)\n",
    "\n",
    "    # for each text in text_input, get the sentiment and label, and return as json\n",
    "    return [\n",
    "        {\n",
    "            \"text\": text_input[i],\n",
    "            \"sentiment\": sentiment_score[i][sentiment_label[i]],\n",
    "            \"label\": config.id2label[np.argmax(sentiment_label[i], axis=0)],\n",
    "        }\n",
    "        for i in range(len(text_input))\n",
    "    ]"
   ]
  },
  {
   "cell_type": "code",
   "execution_count": 79,
   "metadata": {},
   "outputs": [
    {
     "data": {
      "text/plain": [
       "[{'text': 'Opinion | Climate Change in Trump’s Age of Ignorance',\n",
       "  'sentiment': 0.5026869,\n",
       "  'label': 'negative'},\n",
       " {'text': 'Opinion | To Make Headway on Climate Change, Let’s Change the Subject',\n",
       "  'sentiment': 0.870239,\n",
       "  'label': 'negative'},\n",
       " {'text': 'Opinion | Climate Change and the Exodus of Species',\n",
       "  'sentiment': 0.83511066,\n",
       "  'label': 'negative'},\n",
       " {'text': 'Opinion | Can Geoegineering Fix Climate Change?',\n",
       "  'sentiment': 0.86078316,\n",
       "  'label': 'negative'},\n",
       " {'text': 'Opinion | China and India Make Big Strides on Climate Change',\n",
       "  'sentiment': 0.7295338,\n",
       "  'label': 'negative'},\n",
       " {'text': 'Losing Earth: The Decade We Almost Stopped Climate Change',\n",
       "  'sentiment': 0.6197093,\n",
       "  'label': 'negative'},\n",
       " {'text': 'In the Fight Against Climate Change, Young Voices Speak Out',\n",
       "  'sentiment': 0.75208914,\n",
       "  'label': 'negative'},\n",
       " {'text': 'Our Response to Climate Change Is Missing Something Big, Scientists Say',\n",
       "  'sentiment': 0.56820893,\n",
       "  'label': 'negative'},\n",
       " {'text': 'Industry Awakens to Threat of Climate Change',\n",
       "  'sentiment': 0.5600568,\n",
       "  'label': 'negative'},\n",
       " {'text': 'The Effects of Climate Change',\n",
       "  'sentiment': 0.6565613,\n",
       "  'label': 'negative'}]"
      ]
     },
     "execution_count": 79,
     "metadata": {},
     "output_type": "execute_result"
    }
   ],
   "source": [
    "calculate_sentiment(\n",
    "    [\n",
    "        \"Opinion | Climate Change in Trump’s Age of Ignorance\",\n",
    "        \"Opinion | To Make Headway on Climate Change, Let’s Change the Subject\",\n",
    "        \"Opinion | Climate Change and the Exodus of Species\",\n",
    "        \"Opinion | Can Geoegineering Fix Climate Change?\",\n",
    "        \"Opinion | China and India Make Big Strides on Climate Change\",\n",
    "        \"Losing Earth: The Decade We Almost Stopped Climate Change\",\n",
    "        \"In the Fight Against Climate Change, Young Voices Speak Out\",\n",
    "        \"Our Response to Climate Change Is Missing Something Big, Scientists Say\",\n",
    "        \"Industry Awakens to Threat of Climate Change\",\n",
    "        \"The Effects of Climate Change\",\n",
    "    ]\n",
    ")"
   ]
  }
 ],
 "metadata": {
  "kernelspec": {
   "display_name": "base",
   "language": "python",
   "name": "python3"
  },
  "language_info": {
   "codemirror_mode": {
    "name": "ipython",
    "version": 3
   },
   "file_extension": ".py",
   "mimetype": "text/x-python",
   "name": "python",
   "nbconvert_exporter": "python",
   "pygments_lexer": "ipython3",
   "version": "3.9.13"
  },
  "orig_nbformat": 4,
  "vscode": {
   "interpreter": {
    "hash": "38cca0c38332a56087b24af0bc80247f4fced29cb4f7f437d91dc159adec9c4e"
   }
  }
 },
 "nbformat": 4,
 "nbformat_minor": 2
}
