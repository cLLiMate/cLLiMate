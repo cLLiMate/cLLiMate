{
 "cells": [
  {
   "cell_type": "code",
   "execution_count": 1,
   "metadata": {},
   "outputs": [],
   "source": [
    "import os\n",
    "import json"
   ]
  },
  {
   "cell_type": "code",
   "execution_count": 2,
   "metadata": {},
   "outputs": [],
   "source": [
    "final = {\n",
    "    \"GroupZero\": {},\n",
    "    \"GroupOne\": {},\n",
    "    \"GroupTwo\": {},\n",
    "}"
   ]
  },
  {
   "cell_type": "code",
   "execution_count": 3,
   "metadata": {},
   "outputs": [
    {
     "name": "stdout",
     "output_type": "stream",
     "text": [
      "numNature.json\n",
      "overallAveragePerYear.json\n",
      "numNeutralPerYear.json\n"
     ]
    },
    {
     "ename": "UnicodeDecodeError",
     "evalue": "'utf-8' codec can't decode byte 0xff in position 1082: invalid start byte",
     "output_type": "error",
     "traceback": [
      "\u001b[0;31m---------------------------------------------------------------------------\u001b[0m",
      "\u001b[0;31mUnicodeDecodeError\u001b[0m                        Traceback (most recent call last)",
      "Cell \u001b[0;32mIn[3], line 6\u001b[0m\n\u001b[1;32m      4\u001b[0m f \u001b[39m=\u001b[39m os\u001b[39m.\u001b[39mpath\u001b[39m.\u001b[39mjoin(directory, filename)\n\u001b[1;32m      5\u001b[0m \u001b[39mif\u001b[39;00m os\u001b[39m.\u001b[39mpath\u001b[39m.\u001b[39misfile(f):\n\u001b[0;32m----> 6\u001b[0m     f \u001b[39m=\u001b[39m json\u001b[39m.\u001b[39mloads(\u001b[39mopen\u001b[39;49m(f, \u001b[39m'\u001b[39;49m\u001b[39mr\u001b[39;49m\u001b[39m'\u001b[39;49m)\u001b[39m.\u001b[39;49mread())\n\u001b[1;32m      7\u001b[0m     \u001b[39mprint\u001b[39m(filename)\n\u001b[1;32m      8\u001b[0m     \u001b[39mif\u001b[39;00m filename \u001b[39m==\u001b[39m \u001b[39m\"\u001b[39m\u001b[39mmanifest.json\u001b[39m\u001b[39m\"\u001b[39m \u001b[39mor\u001b[39;00m filename \u001b[39m==\u001b[39m \u001b[39m\"\u001b[39m\u001b[39mall.json\u001b[39m\u001b[39m\"\u001b[39m:\n",
      "File \u001b[0;32m/opt/homebrew/Cellar/python@3.10/3.10.10/Frameworks/Python.framework/Versions/3.10/lib/python3.10/codecs.py:322\u001b[0m, in \u001b[0;36mBufferedIncrementalDecoder.decode\u001b[0;34m(self, input, final)\u001b[0m\n\u001b[1;32m    319\u001b[0m \u001b[39mdef\u001b[39;00m \u001b[39mdecode\u001b[39m(\u001b[39mself\u001b[39m, \u001b[39minput\u001b[39m, final\u001b[39m=\u001b[39m\u001b[39mFalse\u001b[39;00m):\n\u001b[1;32m    320\u001b[0m     \u001b[39m# decode input (taking the buffer into account)\u001b[39;00m\n\u001b[1;32m    321\u001b[0m     data \u001b[39m=\u001b[39m \u001b[39mself\u001b[39m\u001b[39m.\u001b[39mbuffer \u001b[39m+\u001b[39m \u001b[39minput\u001b[39m\n\u001b[0;32m--> 322\u001b[0m     (result, consumed) \u001b[39m=\u001b[39m \u001b[39mself\u001b[39;49m\u001b[39m.\u001b[39;49m_buffer_decode(data, \u001b[39mself\u001b[39;49m\u001b[39m.\u001b[39;49merrors, final)\n\u001b[1;32m    323\u001b[0m     \u001b[39m# keep undecoded input until the next call\u001b[39;00m\n\u001b[1;32m    324\u001b[0m     \u001b[39mself\u001b[39m\u001b[39m.\u001b[39mbuffer \u001b[39m=\u001b[39m data[consumed:]\n",
      "\u001b[0;31mUnicodeDecodeError\u001b[0m: 'utf-8' codec can't decode byte 0xff in position 1082: invalid start byte"
     ]
    }
   ],
   "source": [
    "directory = \"../data/vis\"\n",
    "\n",
    "for filename in os.listdir(directory):\n",
    "    f = os.path.join(directory, filename)\n",
    "    if os.path.isfile(f):\n",
    "        f = json.loads(open(f, \"r\").read())\n",
    "        print(filename)\n",
    "        if filename == \"manifest.json\" or filename == \"all.json\":\n",
    "            continue\n",
    "        elif filename == \"umapClimate.json\":\n",
    "            final[\"umapClimate\"] = json.dumps(f)\n",
    "        else:\n",
    "            if f[\"id\"] == 0:\n",
    "                final[\"GroupZero\"][f[\"name\"]] = {\"x\": f[\"index\"], \"y\": f[\"data\"]}\n",
    "            elif f[\"id\"] == 1:\n",
    "                final[\"GroupOne\"][f[\"name\"]] = {\"x\": f[\"index\"], \"y\": f[\"data\"]}\n",
    "            elif f[\"id\"] == 2:\n",
    "                final[\"GroupTwo\"][f[\"name\"]] = {\"x\": f[\"index\"], \"y\": f[\"data\"]}"
   ]
  },
  {
   "cell_type": "code",
   "execution_count": null,
   "metadata": {},
   "outputs": [
    {
     "data": {
      "text/plain": [
       "1287869"
      ]
     },
     "execution_count": 53,
     "metadata": {},
     "output_type": "execute_result"
    }
   ],
   "source": [
    "writer = open(\"../data/vis/all-v2.json\", \"w\")\n",
    "writer.write(json.dumps(final))"
   ]
  }
 ],
 "metadata": {
  "kernelspec": {
   "display_name": "venv",
   "language": "python",
   "name": "python3"
  },
  "language_info": {
   "codemirror_mode": {
    "name": "ipython",
    "version": 3
   },
   "file_extension": ".py",
   "mimetype": "text/x-python",
   "name": "python",
   "nbconvert_exporter": "python",
   "pygments_lexer": "ipython3",
   "version": "3.10.10"
  },
  "orig_nbformat": 4,
  "vscode": {
   "interpreter": {
    "hash": "78283dd2185b982478c3c352738d55a3f39fbfb651f55dd6475ac33141b440a4"
   }
  }
 },
 "nbformat": 4,
 "nbformat_minor": 2
}
