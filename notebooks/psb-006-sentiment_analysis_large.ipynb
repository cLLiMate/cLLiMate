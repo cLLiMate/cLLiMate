{
 "cells": [
  {
   "attachments": {},
   "cell_type": "markdown",
   "metadata": {},
   "source": [
    "# Sentiment Analysis for Full Dataset"
   ]
  },
  {
   "attachments": {},
   "cell_type": "markdown",
   "metadata": {},
   "source": [
    "## Imports"
   ]
  },
  {
   "cell_type": "code",
   "execution_count": 1,
   "metadata": {},
   "outputs": [],
   "source": [
    "from transformers import pipeline"
   ]
  },
  {
   "cell_type": "code",
   "execution_count": 29,
   "metadata": {},
   "outputs": [],
   "source": [
    "from transformers import AutoModelForSequenceClassification\n",
    "from transformers import AutoTokenizer, AutoConfig\n",
    "import pandas as pd\n",
    "import numpy as np\n",
    "from scipy.special import softmax\n",
    "\n",
    "from tqdm import tqdm"
   ]
  },
  {
   "attachments": {},
   "cell_type": "markdown",
   "metadata": {},
   "source": [
    "## Load Model"
   ]
  },
  {
   "cell_type": "code",
   "execution_count": 3,
   "metadata": {},
   "outputs": [
    {
     "name": "stderr",
     "output_type": "stream",
     "text": [
      "Some weights of the model checkpoint at cardiffnlp/twitter-roberta-base-sentiment-latest were not used when initializing RobertaForSequenceClassification: ['roberta.pooler.dense.weight', 'roberta.pooler.dense.bias']\n",
      "- This IS expected if you are initializing RobertaForSequenceClassification from the checkpoint of a model trained on another task or with another architecture (e.g. initializing a BertForSequenceClassification model from a BertForPreTraining model).\n",
      "- This IS NOT expected if you are initializing RobertaForSequenceClassification from the checkpoint of a model that you expect to be exactly identical (initializing a BertForSequenceClassification model from a BertForSequenceClassification model).\n"
     ]
    }
   ],
   "source": [
    "MODEL = f\"cardiffnlp/twitter-roberta-base-sentiment-latest\"\n",
    "\n",
    "tokenizer = AutoTokenizer.from_pretrained(MODEL)\n",
    "config = AutoConfig.from_pretrained(MODEL)\n",
    "\n",
    "model = AutoModelForSequenceClassification.from_pretrained(MODEL)"
   ]
  },
  {
   "attachments": {},
   "cell_type": "markdown",
   "metadata": {},
   "source": [
    "## Load Data"
   ]
  },
  {
   "cell_type": "code",
   "execution_count": 7,
   "metadata": {},
   "outputs": [
    {
     "data": {
      "text/plain": [
       "0       a g calls for infrastructure protection summit\n",
       "1    epa still trying to recover chemical clean up ...\n",
       "2    expressions of interest sought to build livestock\n",
       "3           iraq to pay for own rebuilding white house\n",
       "4           meeting to focus on broken hill water woes\n",
       "5    more water restrictions predicted for northern...\n",
       "6             mugabe to touch down in paris for summit\n",
       "7                national gallery gets all clear after\n",
       "8                           omodei to stay in politics\n",
       "9               osullivan in world cross country doubt\n",
       "Name: headline, dtype: object"
      ]
     },
     "execution_count": 7,
     "metadata": {},
     "output_type": "execute_result"
    }
   ],
   "source": [
    "total_data = pd.read_parquet(\"../data/processed/news-consolidated-v1.parquet\")\n",
    "\n",
    "headlines = total_data[\"headline\"]\n",
    "headlines.head(10)"
   ]
  },
  {
   "attachments": {},
   "cell_type": "markdown",
   "metadata": {},
   "source": [
    "## Run Sentiment Analysis"
   ]
  },
  {
   "cell_type": "code",
   "execution_count": 30,
   "metadata": {},
   "outputs": [],
   "source": [
    "def calculate_sentiment(input_df, batch_size=32):\n",
    "    sentiment_scores = []\n",
    "    sentiment_labels = []\n",
    "\n",
    "    for i in tqdm(range(0, len(input_df), batch_size)):\n",
    "        batch = input_df[\"headline\"][i : i + batch_size]\n",
    "\n",
    "        inputs = tokenizer(\n",
    "            batch.tolist(), padding=True, truncation=True, return_tensors=\"pt\"\n",
    "        )\n",
    "        outputs = model(**inputs)\n",
    "        logits = outputs.logits\n",
    "\n",
    "        probs = softmax(logits.detach().numpy(), axis=1)\n",
    "\n",
    "        sentiment_scores.extend(probs)\n",
    "        sentiment_labels.extend(np.argmax(probs, axis=1))\n",
    "\n",
    "    input_df[\"sentiment_score\"] = np.max(np.array(sentiment_scores), axis=1)\n",
    "    input_df[\"sentiment_label\"] = np.where(\n",
    "        np.array(sentiment_labels) == 0,\n",
    "        \"negative\",\n",
    "        np.where(np.array(sentiment_labels) == 1, \"neutral\", \"positive\"),\n",
    "    )\n",
    "\n",
    "    return input_df"
   ]
  },
  {
   "cell_type": "code",
   "execution_count": 32,
   "metadata": {},
   "outputs": [
    {
     "name": "stderr",
     "output_type": "stream",
     "text": [
      "100%|██████████| 1811/1811 [09:29<00:00,  3.18it/s]\n"
     ]
    }
   ],
   "source": [
    "sentiments = calculate_sentiment(total_data, batch_size=50)"
   ]
  },
  {
   "cell_type": "code",
   "execution_count": 33,
   "metadata": {},
   "outputs": [
    {
     "data": {
      "text/html": [
       "<div>\n",
       "<style scoped>\n",
       "    .dataframe tbody tr th:only-of-type {\n",
       "        vertical-align: middle;\n",
       "    }\n",
       "\n",
       "    .dataframe tbody tr th {\n",
       "        vertical-align: top;\n",
       "    }\n",
       "\n",
       "    .dataframe thead th {\n",
       "        text-align: right;\n",
       "    }\n",
       "</style>\n",
       "<table border=\"1\" class=\"dataframe\">\n",
       "  <thead>\n",
       "    <tr style=\"text-align: right;\">\n",
       "      <th></th>\n",
       "      <th>id</th>\n",
       "      <th>source</th>\n",
       "      <th>date</th>\n",
       "      <th>headline</th>\n",
       "      <th>embedding</th>\n",
       "      <th>url</th>\n",
       "      <th>sentiment_score</th>\n",
       "      <th>sentiment_label</th>\n",
       "    </tr>\n",
       "  </thead>\n",
       "  <tbody>\n",
       "    <tr>\n",
       "      <th>0</th>\n",
       "      <td>0</td>\n",
       "      <td>abc</td>\n",
       "      <td>2003-02-19</td>\n",
       "      <td>a g calls for infrastructure protection summit</td>\n",
       "      <td>[0.42550426721572876, 0.5782315135002136, 0.09...</td>\n",
       "      <td>null</td>\n",
       "      <td>0.766538</td>\n",
       "      <td>neutral</td>\n",
       "    </tr>\n",
       "    <tr>\n",
       "      <th>1</th>\n",
       "      <td>1</td>\n",
       "      <td>abc</td>\n",
       "      <td>2003-02-19</td>\n",
       "      <td>epa still trying to recover chemical clean up ...</td>\n",
       "      <td>[0.33238619565963745, -0.3517177700996399, 0.5...</td>\n",
       "      <td>null</td>\n",
       "      <td>0.563630</td>\n",
       "      <td>negative</td>\n",
       "    </tr>\n",
       "    <tr>\n",
       "      <th>2</th>\n",
       "      <td>2</td>\n",
       "      <td>abc</td>\n",
       "      <td>2003-02-19</td>\n",
       "      <td>expressions of interest sought to build livestock</td>\n",
       "      <td>[0.4847770035266876, 0.10000099241733551, -0.0...</td>\n",
       "      <td>null</td>\n",
       "      <td>0.843926</td>\n",
       "      <td>neutral</td>\n",
       "    </tr>\n",
       "    <tr>\n",
       "      <th>3</th>\n",
       "      <td>3</td>\n",
       "      <td>abc</td>\n",
       "      <td>2003-02-19</td>\n",
       "      <td>iraq to pay for own rebuilding white house</td>\n",
       "      <td>[0.4847399592399597, 0.20435450971126556, 0.19...</td>\n",
       "      <td>null</td>\n",
       "      <td>0.762468</td>\n",
       "      <td>neutral</td>\n",
       "    </tr>\n",
       "    <tr>\n",
       "      <th>4</th>\n",
       "      <td>4</td>\n",
       "      <td>abc</td>\n",
       "      <td>2003-02-19</td>\n",
       "      <td>meeting to focus on broken hill water woes</td>\n",
       "      <td>[0.3507457375526428, 0.43837735056877136, -0.0...</td>\n",
       "      <td>null</td>\n",
       "      <td>0.720201</td>\n",
       "      <td>neutral</td>\n",
       "    </tr>\n",
       "    <tr>\n",
       "      <th>5</th>\n",
       "      <td>5</td>\n",
       "      <td>abc</td>\n",
       "      <td>2003-02-19</td>\n",
       "      <td>more water restrictions predicted for northern...</td>\n",
       "      <td>[0.1861242949962616, -0.08368571102619171, 0.0...</td>\n",
       "      <td>null</td>\n",
       "      <td>0.539765</td>\n",
       "      <td>neutral</td>\n",
       "    </tr>\n",
       "    <tr>\n",
       "      <th>6</th>\n",
       "      <td>6</td>\n",
       "      <td>abc</td>\n",
       "      <td>2003-02-19</td>\n",
       "      <td>mugabe to touch down in paris for summit</td>\n",
       "      <td>[0.3408227562904358, 0.33002549409866333, -0.1...</td>\n",
       "      <td>null</td>\n",
       "      <td>0.921871</td>\n",
       "      <td>neutral</td>\n",
       "    </tr>\n",
       "    <tr>\n",
       "      <th>7</th>\n",
       "      <td>7</td>\n",
       "      <td>abc</td>\n",
       "      <td>2003-02-19</td>\n",
       "      <td>national gallery gets all clear after</td>\n",
       "      <td>[0.010992174036800861, 0.31676802039146423, -0...</td>\n",
       "      <td>null</td>\n",
       "      <td>0.769341</td>\n",
       "      <td>neutral</td>\n",
       "    </tr>\n",
       "    <tr>\n",
       "      <th>8</th>\n",
       "      <td>8</td>\n",
       "      <td>abc</td>\n",
       "      <td>2003-02-19</td>\n",
       "      <td>omodei to stay in politics</td>\n",
       "      <td>[0.15744999051094055, 0.16422423720359802, -0....</td>\n",
       "      <td>null</td>\n",
       "      <td>0.834178</td>\n",
       "      <td>neutral</td>\n",
       "    </tr>\n",
       "    <tr>\n",
       "      <th>9</th>\n",
       "      <td>9</td>\n",
       "      <td>abc</td>\n",
       "      <td>2003-02-19</td>\n",
       "      <td>osullivan in world cross country doubt</td>\n",
       "      <td>[0.09738999605178833, 0.4430299699306488, -0.3...</td>\n",
       "      <td>null</td>\n",
       "      <td>0.872147</td>\n",
       "      <td>neutral</td>\n",
       "    </tr>\n",
       "  </tbody>\n",
       "</table>\n",
       "</div>"
      ],
      "text/plain": [
       "   id source       date                                           headline  \\\n",
       "0   0    abc 2003-02-19     a g calls for infrastructure protection summit   \n",
       "1   1    abc 2003-02-19  epa still trying to recover chemical clean up ...   \n",
       "2   2    abc 2003-02-19  expressions of interest sought to build livestock   \n",
       "3   3    abc 2003-02-19         iraq to pay for own rebuilding white house   \n",
       "4   4    abc 2003-02-19         meeting to focus on broken hill water woes   \n",
       "5   5    abc 2003-02-19  more water restrictions predicted for northern...   \n",
       "6   6    abc 2003-02-19           mugabe to touch down in paris for summit   \n",
       "7   7    abc 2003-02-19              national gallery gets all clear after   \n",
       "8   8    abc 2003-02-19                         omodei to stay in politics   \n",
       "9   9    abc 2003-02-19             osullivan in world cross country doubt   \n",
       "\n",
       "                                           embedding   url  sentiment_score  \\\n",
       "0  [0.42550426721572876, 0.5782315135002136, 0.09...  null         0.766538   \n",
       "1  [0.33238619565963745, -0.3517177700996399, 0.5...  null         0.563630   \n",
       "2  [0.4847770035266876, 0.10000099241733551, -0.0...  null         0.843926   \n",
       "3  [0.4847399592399597, 0.20435450971126556, 0.19...  null         0.762468   \n",
       "4  [0.3507457375526428, 0.43837735056877136, -0.0...  null         0.720201   \n",
       "5  [0.1861242949962616, -0.08368571102619171, 0.0...  null         0.539765   \n",
       "6  [0.3408227562904358, 0.33002549409866333, -0.1...  null         0.921871   \n",
       "7  [0.010992174036800861, 0.31676802039146423, -0...  null         0.769341   \n",
       "8  [0.15744999051094055, 0.16422423720359802, -0....  null         0.834178   \n",
       "9  [0.09738999605178833, 0.4430299699306488, -0.3...  null         0.872147   \n",
       "\n",
       "  sentiment_label  \n",
       "0         neutral  \n",
       "1        negative  \n",
       "2         neutral  \n",
       "3         neutral  \n",
       "4         neutral  \n",
       "5         neutral  \n",
       "6         neutral  \n",
       "7         neutral  \n",
       "8         neutral  \n",
       "9         neutral  "
      ]
     },
     "execution_count": 33,
     "metadata": {},
     "output_type": "execute_result"
    }
   ],
   "source": [
    "sentiments.head(10)"
   ]
  },
  {
   "attachments": {},
   "cell_type": "markdown",
   "metadata": {},
   "source": [
    "## Save Data"
   ]
  },
  {
   "cell_type": "code",
   "execution_count": 34,
   "metadata": {},
   "outputs": [],
   "source": [
    "sentiments.to_parquet(\"../data/processed/news-consolidated-v2.parquet\")"
   ]
  }
 ],
 "metadata": {
  "kernelspec": {
   "display_name": "base",
   "language": "python",
   "name": "python3"
  },
  "language_info": {
   "codemirror_mode": {
    "name": "ipython",
    "version": 3
   },
   "file_extension": ".py",
   "mimetype": "text/x-python",
   "name": "python",
   "nbconvert_exporter": "python",
   "pygments_lexer": "ipython3",
   "version": "3.9.13"
  },
  "orig_nbformat": 4,
  "vscode": {
   "interpreter": {
    "hash": "38cca0c38332a56087b24af0bc80247f4fced29cb4f7f437d91dc159adec9c4e"
   }
  }
 },
 "nbformat": 4,
 "nbformat_minor": 2
}
