{
 "cells": [
  {
   "cell_type": "code",
   "execution_count": 1,
   "metadata": {},
   "outputs": [
    {
     "name": "stdout",
     "output_type": "stream",
     "text": [
      "[==================================================] 100.0% 66.0/66.0MB downloaded\n"
     ]
    },
    {
     "data": {
      "text/plain": [
       "<gensim.models.keyedvectors.KeyedVectors at 0x1268a9120>"
      ]
     },
     "execution_count": 1,
     "metadata": {},
     "output_type": "execute_result"
    }
   ],
   "source": [
    "import gensim.downloader\n",
    "\n",
    "gv = gensim.downloader.load(\"glove-wiki-gigaword-50\")\n",
    "gv"
   ]
  },
  {
   "cell_type": "code",
   "execution_count": 4,
   "metadata": {},
   "outputs": [
    {
     "data": {
      "text/plain": [
       "'/Users/anthony/gensim-data/glove-wiki-gigaword-50/glove-wiki-gigaword-50.gz'"
      ]
     },
     "execution_count": 4,
     "metadata": {},
     "output_type": "execute_result"
    }
   ],
   "source": [
    "gensim.downloader.load(\"glove-wiki-gigaword-50\", return_path=True)"
   ]
  },
  {
   "cell_type": "code",
   "execution_count": 12,
   "metadata": {},
   "outputs": [
    {
     "data": {
      "text/plain": [
       "array([ 0.46274003,  0.25665578,  0.012541  , -0.06907561, -0.01823201,\n",
       "        0.430056  , -0.75776803, -0.002956  ,  0.38738996, -0.28388602,\n",
       "       -0.053064  , -0.24474779,  0.251372  ,  0.518278  ,  0.11326579,\n",
       "        0.03440388, -0.0247454 ,  0.15776   , -1.232084  , -0.40089235,\n",
       "       -0.1226912 , -0.12501761,  0.08699401, -0.10075799,  0.01106199,\n",
       "       -1.54298   , -0.11258   ,  0.61133   ,  0.34514943, -0.0672932 ,\n",
       "        1.9884079 ,  0.144666  , -0.53870857,  0.26765   , -0.051914  ,\n",
       "       -0.2560226 , -0.1902    ,  0.05750019,  0.13776441, -0.077336  ,\n",
       "       -0.0879146 ,  0.46004802,  0.010896  ,  0.1631424 , -0.16898301,\n",
       "        0.06230601,  0.1160704 , -0.288008  , -0.2186862 , -0.17343761],\n",
       "      dtype=float32)"
      ]
     },
     "execution_count": 12,
     "metadata": {},
     "output_type": "execute_result"
    }
   ],
   "source": [
    "headline = \"a balloon flies over montana\"\n",
    "gv[headline.split()].mean(axis=0)"
   ]
  }
 ],
 "metadata": {
  "kernelspec": {
   "display_name": "venv",
   "language": "python",
   "name": "python3"
  },
  "language_info": {
   "codemirror_mode": {
    "name": "ipython",
    "version": 3
   },
   "file_extension": ".py",
   "mimetype": "text/x-python",
   "name": "python",
   "nbconvert_exporter": "python",
   "pygments_lexer": "ipython3",
   "version": "3.10.10"
  },
  "orig_nbformat": 4,
  "vscode": {
   "interpreter": {
    "hash": "f8085a60e42c023072d17e8faf1d8d0ad9249d2f1b5d3eff412e39ed57d07e9a"
   }
  }
 },
 "nbformat": 4,
 "nbformat_minor": 2
}
