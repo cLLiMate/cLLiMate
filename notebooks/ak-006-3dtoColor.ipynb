{
 "cells": [
  {
   "cell_type": "code",
   "execution_count": 7,
   "metadata": {},
   "outputs": [],
   "source": [
    "import os\n",
    "import json"
   ]
  },
  {
   "cell_type": "code",
   "execution_count": 8,
   "metadata": {},
   "outputs": [],
   "source": [
    "final = {\n",
    "    0: {\n",
    "        \"x\": [],\n",
    "        \"y\": [],\n",
    "        \"z\": [],\n",
    "        \"mode\": \"markers\",\n",
    "        \"marker\": {\"color\": \"rgb(255,0,0)\"},\n",
    "    },\n",
    "    1: {\n",
    "        \"x\": [],\n",
    "        \"y\": [],\n",
    "        \"z\": [],\n",
    "        \"mode\": \"markers\",\n",
    "        \"marker\": {\"color\": \"rgb(0,255,0)\"},\n",
    "    },\n",
    "    2: {\n",
    "        \"x\": [],\n",
    "        \"y\": [],\n",
    "        \"z\": [],\n",
    "        \"mode\": \"markers\",\n",
    "        \"marker\": {\"color\": \"rgb(0,0,255)\"},\n",
    "    },\n",
    "    3: {\n",
    "        \"x\": [],\n",
    "        \"y\": [],\n",
    "        \"z\": [],\n",
    "        \"mode\": \"markers\",\n",
    "        \"marker\": {\"color\": \"rgb(255,255,0)\"},\n",
    "    },\n",
    "    4: {\n",
    "        \"x\": [],\n",
    "        \"y\": [],\n",
    "        \"z\": [],\n",
    "        \"mode\": \"markers\",\n",
    "        \"marker\": {\"color\": \"rgb(255,0,255)\"},\n",
    "    },\n",
    "    5: {\n",
    "        \"x\": [],\n",
    "        \"y\": [],\n",
    "        \"z\": [],\n",
    "        \"mode\": \"markers\",\n",
    "        \"marker\": {\"color\": \"rgb(0,255,255)\"},\n",
    "    },\n",
    "}"
   ]
  },
  {
   "cell_type": "code",
   "execution_count": 9,
   "metadata": {},
   "outputs": [],
   "source": [
    "f = open(\"../data/vis/umapClimate.json\", \"r\").read()\n",
    "bro = json.loads(f)"
   ]
  },
  {
   "cell_type": "code",
   "execution_count": 10,
   "metadata": {},
   "outputs": [],
   "source": [
    "for i in range(len(bro[\"cluster\"])):\n",
    "    final[bro[\"cluster\"][i]][\"x\"].append(bro[\"x\"][i])\n",
    "    final[bro[\"cluster\"][i]][\"y\"].append(bro[\"y\"][i])\n",
    "    final[bro[\"cluster\"][i]][\"z\"].append(bro[\"z\"][i])"
   ]
  },
  {
   "cell_type": "code",
   "execution_count": 16,
   "metadata": {},
   "outputs": [],
   "source": [
    "trulyFinal = []"
   ]
  },
  {
   "cell_type": "code",
   "execution_count": 17,
   "metadata": {},
   "outputs": [],
   "source": [
    "for i in final:\n",
    "    trulyFinal.append(final[i])"
   ]
  },
  {
   "cell_type": "code",
   "execution_count": 20,
   "metadata": {},
   "outputs": [],
   "source": [
    "f = open(\"../data/vis/umapClimate2.json\", \"w\").write(json.dumps(trulyFinal))"
   ]
  }
 ],
 "metadata": {
  "kernelspec": {
   "display_name": "venv",
   "language": "python",
   "name": "python3"
  },
  "language_info": {
   "codemirror_mode": {
    "name": "ipython",
    "version": 3
   },
   "file_extension": ".py",
   "mimetype": "text/x-python",
   "name": "python",
   "nbconvert_exporter": "python",
   "pygments_lexer": "ipython3",
   "version": "3.10.10"
  },
  "orig_nbformat": 4,
  "vscode": {
   "interpreter": {
    "hash": "78283dd2185b982478c3c352738d55a3f39fbfb651f55dd6475ac33141b440a4"
   }
  }
 },
 "nbformat": 4,
 "nbformat_minor": 2
}
