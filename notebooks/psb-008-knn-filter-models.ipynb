{
 "cells": [
  {
   "attachments": {},
   "cell_type": "markdown",
   "metadata": {},
   "source": [
    "# Creating 5 different KNN models (general, climateDB, Nature, ABC, NewsAPI)"
   ]
  },
  {
   "attachments": {},
   "cell_type": "markdown",
   "metadata": {},
   "source": [
    "## Imports"
   ]
  },
  {
   "cell_type": "code",
   "execution_count": 1,
   "metadata": {},
   "outputs": [],
   "source": [
    "import pandas as pd\n",
    "from sklearn.neighbors import NearestNeighbors"
   ]
  },
  {
   "attachments": {},
   "cell_type": "markdown",
   "metadata": {},
   "source": [
    "## Load Data"
   ]
  },
  {
   "cell_type": "code",
   "execution_count": 2,
   "metadata": {},
   "outputs": [
    {
     "data": {
      "text/html": [
       "<div>\n",
       "<style scoped>\n",
       "    .dataframe tbody tr th:only-of-type {\n",
       "        vertical-align: middle;\n",
       "    }\n",
       "\n",
       "    .dataframe tbody tr th {\n",
       "        vertical-align: top;\n",
       "    }\n",
       "\n",
       "    .dataframe thead th {\n",
       "        text-align: right;\n",
       "    }\n",
       "</style>\n",
       "<table border=\"1\" class=\"dataframe\">\n",
       "  <thead>\n",
       "    <tr style=\"text-align: right;\">\n",
       "      <th></th>\n",
       "      <th>id</th>\n",
       "      <th>source</th>\n",
       "      <th>date</th>\n",
       "      <th>headline</th>\n",
       "      <th>embedding</th>\n",
       "      <th>url</th>\n",
       "      <th>sentiment_score</th>\n",
       "      <th>sentiment_label</th>\n",
       "    </tr>\n",
       "  </thead>\n",
       "  <tbody>\n",
       "    <tr>\n",
       "      <th>0</th>\n",
       "      <td>0</td>\n",
       "      <td>abc</td>\n",
       "      <td>2003-02-19</td>\n",
       "      <td>a g calls for infrastructure protection summit</td>\n",
       "      <td>[0.42550426721572876, 0.5782315135002136, 0.09...</td>\n",
       "      <td>null</td>\n",
       "      <td>0.766538</td>\n",
       "      <td>neutral</td>\n",
       "    </tr>\n",
       "    <tr>\n",
       "      <th>1</th>\n",
       "      <td>1</td>\n",
       "      <td>abc</td>\n",
       "      <td>2003-02-19</td>\n",
       "      <td>epa still trying to recover chemical clean up ...</td>\n",
       "      <td>[0.33238619565963745, -0.3517177700996399, 0.5...</td>\n",
       "      <td>null</td>\n",
       "      <td>0.563630</td>\n",
       "      <td>negative</td>\n",
       "    </tr>\n",
       "    <tr>\n",
       "      <th>2</th>\n",
       "      <td>2</td>\n",
       "      <td>abc</td>\n",
       "      <td>2003-02-19</td>\n",
       "      <td>expressions of interest sought to build livestock</td>\n",
       "      <td>[0.4847770035266876, 0.10000099241733551, -0.0...</td>\n",
       "      <td>null</td>\n",
       "      <td>0.843926</td>\n",
       "      <td>neutral</td>\n",
       "    </tr>\n",
       "    <tr>\n",
       "      <th>3</th>\n",
       "      <td>3</td>\n",
       "      <td>abc</td>\n",
       "      <td>2003-02-19</td>\n",
       "      <td>iraq to pay for own rebuilding white house</td>\n",
       "      <td>[0.4847399592399597, 0.20435450971126556, 0.19...</td>\n",
       "      <td>null</td>\n",
       "      <td>0.762468</td>\n",
       "      <td>neutral</td>\n",
       "    </tr>\n",
       "    <tr>\n",
       "      <th>4</th>\n",
       "      <td>4</td>\n",
       "      <td>abc</td>\n",
       "      <td>2003-02-19</td>\n",
       "      <td>meeting to focus on broken hill water woes</td>\n",
       "      <td>[0.3507457375526428, 0.43837735056877136, -0.0...</td>\n",
       "      <td>null</td>\n",
       "      <td>0.720201</td>\n",
       "      <td>neutral</td>\n",
       "    </tr>\n",
       "  </tbody>\n",
       "</table>\n",
       "</div>"
      ],
      "text/plain": [
       "   id source       date                                           headline  \\\n",
       "0   0    abc 2003-02-19     a g calls for infrastructure protection summit   \n",
       "1   1    abc 2003-02-19  epa still trying to recover chemical clean up ...   \n",
       "2   2    abc 2003-02-19  expressions of interest sought to build livestock   \n",
       "3   3    abc 2003-02-19         iraq to pay for own rebuilding white house   \n",
       "4   4    abc 2003-02-19         meeting to focus on broken hill water woes   \n",
       "\n",
       "                                           embedding   url  sentiment_score  \\\n",
       "0  [0.42550426721572876, 0.5782315135002136, 0.09...  null         0.766538   \n",
       "1  [0.33238619565963745, -0.3517177700996399, 0.5...  null         0.563630   \n",
       "2  [0.4847770035266876, 0.10000099241733551, -0.0...  null         0.843926   \n",
       "3  [0.4847399592399597, 0.20435450971126556, 0.19...  null         0.762468   \n",
       "4  [0.3507457375526428, 0.43837735056877136, -0.0...  null         0.720201   \n",
       "\n",
       "  sentiment_label  \n",
       "0         neutral  \n",
       "1        negative  \n",
       "2         neutral  \n",
       "3         neutral  \n",
       "4         neutral  "
      ]
     },
     "execution_count": 2,
     "metadata": {},
     "output_type": "execute_result"
    }
   ],
   "source": [
    "total_data = pd.read_parquet(\"../data/processed/news-consolidated-v2.parquet\")\n",
    "\n",
    "total_data.head()"
   ]
  },
  {
   "attachments": {},
   "cell_type": "markdown",
   "metadata": {},
   "source": [
    "## Creating KNN Models"
   ]
  },
  {
   "cell_type": "code",
   "execution_count": 3,
   "metadata": {},
   "outputs": [],
   "source": [
    "nbrs_general = NearestNeighbors(n_neighbors=20, algorithm=\"kd_tree\").fit(\n",
    "    total_data[\"embedding\"].values.tolist()\n",
    ")"
   ]
  },
  {
   "cell_type": "code",
   "execution_count": 11,
   "metadata": {},
   "outputs": [],
   "source": [
    "nbrs_climateDB = NearestNeighbors(n_neighbors=20, algorithm=\"kd_tree\").fit(\n",
    "    total_data[total_data[\"source\"] == \"climate-db\"][\"embedding\"].values.tolist()\n",
    ")\n",
    "nbrs_abcNews = NearestNeighbors(n_neighbors=20, algorithm=\"kd_tree\").fit(\n",
    "    total_data[total_data[\"source\"] == \"abc\"][\"embedding\"].values.tolist()\n",
    ")\n",
    "nbrs_natureNews = NearestNeighbors(n_neighbors=20, algorithm=\"kd_tree\").fit(\n",
    "    total_data[total_data[\"source\"] == \"nature\"][\"embedding\"].values.tolist()\n",
    ")\n",
    "nbrs_newsapi = NearestNeighbors(n_neighbors=20, algorithm=\"kd_tree\").fit(\n",
    "    total_data[total_data[\"source\"] == \"news-api\"][\"embedding\"].values.tolist()\n",
    ")"
   ]
  },
  {
   "cell_type": "code",
   "execution_count": 12,
   "metadata": {},
   "outputs": [
    {
     "data": {
      "text/plain": [
       "(array([[1.23071053, 1.23568965, 1.24138558, 1.25182769, 1.25409491,\n",
       "         1.25728125, 1.27589656, 1.27704022, 1.28068998, 1.2916176 ,\n",
       "         1.2925867 , 1.29642266, 1.29649175, 1.30634988, 1.31094491,\n",
       "         1.31439346, 1.31448637, 1.32133175, 1.32578274, 1.32972157]]),\n",
       " array([[ 566, 1475, 2870, 4435, 5108, 2927,  476, 3293, 5923, 5627, 3495,\n",
       "         5183, 2655, 5543, 5813, 3556, 5689, 5401, 4786, 6554]]))"
      ]
     },
     "execution_count": 12,
     "metadata": {},
     "output_type": "execute_result"
    }
   ],
   "source": [
    "nbrs_natureNews.kneighbors([total_data[\"embedding\"].iloc[5]])"
   ]
  },
  {
   "cell_type": "code",
   "execution_count": 15,
   "metadata": {},
   "outputs": [
    {
     "data": {
      "text/html": [
       "<div>\n",
       "<style scoped>\n",
       "    .dataframe tbody tr th:only-of-type {\n",
       "        vertical-align: middle;\n",
       "    }\n",
       "\n",
       "    .dataframe tbody tr th {\n",
       "        vertical-align: top;\n",
       "    }\n",
       "\n",
       "    .dataframe thead th {\n",
       "        text-align: right;\n",
       "    }\n",
       "</style>\n",
       "<table border=\"1\" class=\"dataframe\">\n",
       "  <thead>\n",
       "    <tr style=\"text-align: right;\">\n",
       "      <th></th>\n",
       "      <th>id</th>\n",
       "      <th>source</th>\n",
       "      <th>date</th>\n",
       "      <th>headline</th>\n",
       "      <th>embedding</th>\n",
       "      <th>url</th>\n",
       "      <th>sentiment_score</th>\n",
       "      <th>sentiment_label</th>\n",
       "    </tr>\n",
       "  </thead>\n",
       "  <tbody>\n",
       "    <tr>\n",
       "      <th>84181</th>\n",
       "      <td>84181</td>\n",
       "      <td>nature</td>\n",
       "      <td>2014-10-05</td>\n",
       "      <td>Deep-ocean contribution to sea level and energ...</td>\n",
       "      <td>[0.3001623749732971, 0.2106800228357315, 0.180...</td>\n",
       "      <td>https://www.nature.com/articles/nclimate2387</td>\n",
       "      <td>0.833232</td>\n",
       "      <td>neutral</td>\n",
       "    </tr>\n",
       "    <tr>\n",
       "      <th>85090</th>\n",
       "      <td>85090</td>\n",
       "      <td>nature</td>\n",
       "      <td>2017-12-19</td>\n",
       "      <td>Change in Land Use and Evapotranspiration in t...</td>\n",
       "      <td>[0.4011196196079254, 0.209755077958107, -0.020...</td>\n",
       "      <td>https://www.nature.com/articles/s41598-017-180...</td>\n",
       "      <td>0.918879</td>\n",
       "      <td>neutral</td>\n",
       "    </tr>\n",
       "    <tr>\n",
       "      <th>86485</th>\n",
       "      <td>86485</td>\n",
       "      <td>nature</td>\n",
       "      <td>2020-09-09</td>\n",
       "      <td>Cropland expansion in the United States produc...</td>\n",
       "      <td>[0.13177421689033508, 0.2336922138929367, 0.12...</td>\n",
       "      <td>https://www.nature.com/articles/s41467-020-180...</td>\n",
       "      <td>0.723645</td>\n",
       "      <td>negative</td>\n",
       "    </tr>\n",
       "    <tr>\n",
       "      <th>88050</th>\n",
       "      <td>88050</td>\n",
       "      <td>nature</td>\n",
       "      <td>2022-04-06</td>\n",
       "      <td>The conterminous United States are projected t...</td>\n",
       "      <td>[0.2786351144313812, -0.06172405928373337, 0.3...</td>\n",
       "      <td>https://www.nature.com/articles/s43247-022-004...</td>\n",
       "      <td>0.656030</td>\n",
       "      <td>negative</td>\n",
       "    </tr>\n",
       "    <tr>\n",
       "      <th>88723</th>\n",
       "      <td>88723</td>\n",
       "      <td>nature</td>\n",
       "      <td>2022-08-03</td>\n",
       "      <td>Proximity to small-scale inland and coastal fi...</td>\n",
       "      <td>[0.3552359938621521, 0.06650374084711075, -0.1...</td>\n",
       "      <td>https://www.nature.com/articles/s43247-022-004...</td>\n",
       "      <td>0.735235</td>\n",
       "      <td>positive</td>\n",
       "    </tr>\n",
       "  </tbody>\n",
       "</table>\n",
       "</div>"
      ],
      "text/plain": [
       "          id  source       date  \\\n",
       "84181  84181  nature 2014-10-05   \n",
       "85090  85090  nature 2017-12-19   \n",
       "86485  86485  nature 2020-09-09   \n",
       "88050  88050  nature 2022-04-06   \n",
       "88723  88723  nature 2022-08-03   \n",
       "\n",
       "                                                headline  \\\n",
       "84181  Deep-ocean contribution to sea level and energ...   \n",
       "85090  Change in Land Use and Evapotranspiration in t...   \n",
       "86485  Cropland expansion in the United States produc...   \n",
       "88050  The conterminous United States are projected t...   \n",
       "88723  Proximity to small-scale inland and coastal fi...   \n",
       "\n",
       "                                               embedding  \\\n",
       "84181  [0.3001623749732971, 0.2106800228357315, 0.180...   \n",
       "85090  [0.4011196196079254, 0.209755077958107, -0.020...   \n",
       "86485  [0.13177421689033508, 0.2336922138929367, 0.12...   \n",
       "88050  [0.2786351144313812, -0.06172405928373337, 0.3...   \n",
       "88723  [0.3552359938621521, 0.06650374084711075, -0.1...   \n",
       "\n",
       "                                                     url  sentiment_score  \\\n",
       "84181       https://www.nature.com/articles/nclimate2387         0.833232   \n",
       "85090  https://www.nature.com/articles/s41598-017-180...         0.918879   \n",
       "86485  https://www.nature.com/articles/s41467-020-180...         0.723645   \n",
       "88050  https://www.nature.com/articles/s43247-022-004...         0.656030   \n",
       "88723  https://www.nature.com/articles/s43247-022-004...         0.735235   \n",
       "\n",
       "      sentiment_label  \n",
       "84181         neutral  \n",
       "85090         neutral  \n",
       "86485        negative  \n",
       "88050        negative  \n",
       "88723        positive  "
      ]
     },
     "execution_count": 15,
     "metadata": {},
     "output_type": "execute_result"
    }
   ],
   "source": [
    "data_set = total_data[total_data[\"source\"] == \"nature\"]\n",
    "\n",
    "data_set.iloc[\n",
    "    nbrs_natureNews.kneighbors([total_data[\"embedding\"].iloc[5]])[1][0]\n",
    "].head()"
   ]
  },
  {
   "attachments": {},
   "cell_type": "markdown",
   "metadata": {},
   "source": [
    "## Save Models"
   ]
  },
  {
   "cell_type": "code",
   "execution_count": 16,
   "metadata": {},
   "outputs": [],
   "source": [
    "# pickle the models\n",
    "import pickle\n",
    "\n",
    "with open(\"../data/models/knn-general.pkl\", \"wb\") as f:\n",
    "    pickle.dump(nbrs_general, f)\n",
    "\n",
    "with open(\"../data/models/knn-climateDB.pkl\", \"wb\") as f:\n",
    "    pickle.dump(nbrs_climateDB, f)\n",
    "\n",
    "with open(\"../data/models/knn-abcNews.pkl\", \"wb\") as f:\n",
    "    pickle.dump(nbrs_abcNews, f)\n",
    "\n",
    "with open(\"../data/models/knn-natureNews.pkl\", \"wb\") as f:\n",
    "    pickle.dump(nbrs_natureNews, f)\n",
    "\n",
    "with open(\"../data/models/knn-newsapi.pkl\", \"wb\") as f:\n",
    "    pickle.dump(nbrs_newsapi, f)"
   ]
  }
 ],
 "metadata": {
  "kernelspec": {
   "display_name": "base",
   "language": "python",
   "name": "python3"
  },
  "language_info": {
   "codemirror_mode": {
    "name": "ipython",
    "version": 3
   },
   "file_extension": ".py",
   "mimetype": "text/x-python",
   "name": "python",
   "nbconvert_exporter": "python",
   "pygments_lexer": "ipython3",
   "version": "3.9.13"
  },
  "orig_nbformat": 4,
  "vscode": {
   "interpreter": {
    "hash": "38cca0c38332a56087b24af0bc80247f4fced29cb4f7f437d91dc159adec9c4e"
   }
  }
 },
 "nbformat": 4,
 "nbformat_minor": 2
}
