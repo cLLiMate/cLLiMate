{
 "cells": [
  {
   "attachments": {},
   "cell_type": "markdown",
   "metadata": {},
   "source": [
    "# Classifying Headlines into LDA topics"
   ]
  },
  {
   "attachments": {},
   "cell_type": "markdown",
   "metadata": {},
   "source": [
    "## Imports"
   ]
  },
  {
   "cell_type": "code",
   "execution_count": 5,
   "metadata": {},
   "outputs": [],
   "source": [
    "import pandas as pd\n",
    "import numpy as np\n",
    "import nltk\n",
    "\n",
    "from gensim.corpora import Dictionary\n",
    "from gensim.models import LdaModel"
   ]
  },
  {
   "cell_type": "code",
   "execution_count": 6,
   "metadata": {},
   "outputs": [
    {
     "data": {
      "text/html": [
       "<div>\n",
       "<style scoped>\n",
       "    .dataframe tbody tr th:only-of-type {\n",
       "        vertical-align: middle;\n",
       "    }\n",
       "\n",
       "    .dataframe tbody tr th {\n",
       "        vertical-align: top;\n",
       "    }\n",
       "\n",
       "    .dataframe thead th {\n",
       "        text-align: right;\n",
       "    }\n",
       "</style>\n",
       "<table border=\"1\" class=\"dataframe\">\n",
       "  <thead>\n",
       "    <tr style=\"text-align: right;\">\n",
       "      <th></th>\n",
       "      <th>id</th>\n",
       "      <th>source</th>\n",
       "      <th>date</th>\n",
       "      <th>headline</th>\n",
       "      <th>embedding</th>\n",
       "      <th>url</th>\n",
       "      <th>sentiment_score</th>\n",
       "      <th>sentiment_label</th>\n",
       "    </tr>\n",
       "  </thead>\n",
       "  <tbody>\n",
       "    <tr>\n",
       "      <th>0</th>\n",
       "      <td>0</td>\n",
       "      <td>abc</td>\n",
       "      <td>2003-02-19</td>\n",
       "      <td>a g calls for infrastructure protection summit</td>\n",
       "      <td>[0.42550426721572876, 0.5782315135002136, 0.09...</td>\n",
       "      <td>null</td>\n",
       "      <td>0.766538</td>\n",
       "      <td>neutral</td>\n",
       "    </tr>\n",
       "    <tr>\n",
       "      <th>1</th>\n",
       "      <td>1</td>\n",
       "      <td>abc</td>\n",
       "      <td>2003-02-19</td>\n",
       "      <td>epa still trying to recover chemical clean up ...</td>\n",
       "      <td>[0.33238619565963745, -0.3517177700996399, 0.5...</td>\n",
       "      <td>null</td>\n",
       "      <td>0.563630</td>\n",
       "      <td>negative</td>\n",
       "    </tr>\n",
       "    <tr>\n",
       "      <th>2</th>\n",
       "      <td>2</td>\n",
       "      <td>abc</td>\n",
       "      <td>2003-02-19</td>\n",
       "      <td>expressions of interest sought to build livestock</td>\n",
       "      <td>[0.4847770035266876, 0.10000099241733551, -0.0...</td>\n",
       "      <td>null</td>\n",
       "      <td>0.843926</td>\n",
       "      <td>neutral</td>\n",
       "    </tr>\n",
       "    <tr>\n",
       "      <th>3</th>\n",
       "      <td>3</td>\n",
       "      <td>abc</td>\n",
       "      <td>2003-02-19</td>\n",
       "      <td>iraq to pay for own rebuilding white house</td>\n",
       "      <td>[0.4847399592399597, 0.20435450971126556, 0.19...</td>\n",
       "      <td>null</td>\n",
       "      <td>0.762468</td>\n",
       "      <td>neutral</td>\n",
       "    </tr>\n",
       "    <tr>\n",
       "      <th>4</th>\n",
       "      <td>4</td>\n",
       "      <td>abc</td>\n",
       "      <td>2003-02-19</td>\n",
       "      <td>meeting to focus on broken hill water woes</td>\n",
       "      <td>[0.3507457375526428, 0.43837735056877136, -0.0...</td>\n",
       "      <td>null</td>\n",
       "      <td>0.720201</td>\n",
       "      <td>neutral</td>\n",
       "    </tr>\n",
       "  </tbody>\n",
       "</table>\n",
       "</div>"
      ],
      "text/plain": [
       "   id source       date                                           headline  \\\n",
       "0   0    abc 2003-02-19     a g calls for infrastructure protection summit   \n",
       "1   1    abc 2003-02-19  epa still trying to recover chemical clean up ...   \n",
       "2   2    abc 2003-02-19  expressions of interest sought to build livestock   \n",
       "3   3    abc 2003-02-19         iraq to pay for own rebuilding white house   \n",
       "4   4    abc 2003-02-19         meeting to focus on broken hill water woes   \n",
       "\n",
       "                                           embedding   url  sentiment_score  \\\n",
       "0  [0.42550426721572876, 0.5782315135002136, 0.09...  null         0.766538   \n",
       "1  [0.33238619565963745, -0.3517177700996399, 0.5...  null         0.563630   \n",
       "2  [0.4847770035266876, 0.10000099241733551, -0.0...  null         0.843926   \n",
       "3  [0.4847399592399597, 0.20435450971126556, 0.19...  null         0.762468   \n",
       "4  [0.3507457375526428, 0.43837735056877136, -0.0...  null         0.720201   \n",
       "\n",
       "  sentiment_label  \n",
       "0         neutral  \n",
       "1        negative  \n",
       "2         neutral  \n",
       "3         neutral  \n",
       "4         neutral  "
      ]
     },
     "execution_count": 6,
     "metadata": {},
     "output_type": "execute_result"
    }
   ],
   "source": [
    "total_data = pd.read_parquet(\"../data/processed/news-consolidated-v2.parquet\")\n",
    "total_data.head()"
   ]
  },
  {
   "cell_type": "code",
   "execution_count": 46,
   "metadata": {},
   "outputs": [],
   "source": [
    "from nltk.tokenize import RegexpTokenizer\n",
    "from nltk.corpus import stopwords\n",
    "from nltk.stem.wordnet import WordNetLemmatizer\n",
    "from gensim.models import Phrases, CoherenceModel\n",
    "\n",
    "\n",
    "def preProcessData(dataframe):\n",
    "    headlines = dataframe[\"headline\"].tolist()\n",
    "\n",
    "    # Same process as psb-000-mini_LDA.ipynb\n",
    "\n",
    "    # Tokenize the documents.\n",
    "    tokenizer = RegexpTokenizer(r\"\\w+\")\n",
    "    for idx in range(len(headlines)):\n",
    "        # Remove punctuation and lowercase the documents.\n",
    "        headlines[idx] = tokenizer.tokenize(headlines[idx])\n",
    "        headlines[idx] = [w.lower() for w in headlines[idx] if len(w) > 1]\n",
    "\n",
    "    # Remove stopwords and lemmatize the documents\n",
    "    stop_words = stopwords.words(\"english\")\n",
    "    lemmatizer = WordNetLemmatizer()\n",
    "\n",
    "    for idx in range(len(headlines)):\n",
    "        headlines[idx] = [w for w in headlines[idx] if not w in stop_words]\n",
    "        headlines[idx] = [lemmatizer.lemmatize(token) for token in headlines[idx]]\n",
    "\n",
    "    # Add bigrams\n",
    "    percent_freq = 0.02\n",
    "\n",
    "    bigram = Phrases(headlines, min_count=percent_freq * len(headlines))\n",
    "    for idx in range(len(headlines)):\n",
    "        for token in bigram[headlines[idx]]:\n",
    "            if \"_\" in token:\n",
    "                # Token is a bigram, add to document.\n",
    "                headlines[idx].append(token)\n",
    "\n",
    "    dictionary = Dictionary(headlines)\n",
    "    corpus = [dictionary.doc2bow(doc) for doc in headlines]\n",
    "\n",
    "    return dictionary, corpus, headlines"
   ]
  },
  {
   "cell_type": "code",
   "execution_count": 15,
   "metadata": {},
   "outputs": [],
   "source": [
    "dictionary, corpus, headlines = preProcessData(total_data)\n",
    "bow_vectors = [dictionary.doc2bow(headline) for headline in headlines]\n"
   ]
  },
  {
   "cell_type": "code",
   "execution_count": 41,
   "metadata": {},
   "outputs": [],
   "source": [
    "from gensim import  models\n",
    "lda = models.ldamodel.LdaModel.load(\"../data/models/psb-005-LDA_each_V1.model\")\n",
    "topics = lda.get_document_topics(bow_vectors, minimum_probability=0.0)\n",
    "topics = pd.DataFrame(topics)\n",
    "topics = topics.apply(lambda x: max(x, key=lambda y: y[1]), axis=1)\n",
    "topics = pd.DataFrame(topics.tolist(), columns=[\"topic\", \"prob\"])\n",
    "total_data[\"LDA_index\"] = topics[\"topic\"]\n",
    "total_data[\"LDA_score\"] = topics[\"prob\"]"
   ]
  },
  {
   "cell_type": "code",
   "execution_count": 71,
   "metadata": {},
   "outputs": [],
   "source": [
    "values = lda.show_topics(num_topics=20, num_words=10, formatted=False)\n",
    "values = pd.DataFrame(values)\n",
    "values[\"Summary\"] = [\"Crisis and Struggle\", \"Threat and Mitigation\", \"Drought and Resource Management\", \"Cost and Resource Management\", \"Sustainable Development and Environmental Protection\", \"Economic and Infrastructural Study\", \"Green Energy and Sustainability\", \"Oceanic Impact and Weather Condition\", \"Policy and Benefit Analysis\", \"Risks and Impacts on Health and Environment\", \"Environmental/Geographic Issues and Trends\", \"Water and Environmental Management\", \"Impact of Life and Industry on Society\", \"Showcasing Assessment and Early Management\", \"Air Pollution\", \"Natinoal Energy Future and Usage\", \"Impact of Climate Change\", \"Urban Trade and Warnings\", \"Human Impact on Environment\", \"Use of Natural Resources\"]\n",
    "values.head()\n",
    "values.to_csv(\"../data/intermediate/LDATopics.csv\")"
   ]
  },
  {
   "cell_type": "code",
   "execution_count": 65,
   "metadata": {},
   "outputs": [],
   "source": [
    "def compute_coherence_values(dictionary, corpus, texts, limit, start=2, step=3):\n",
    "\n",
    "    coherence_values = []\n",
    "    model_list = []\n",
    "    for num_topics in range(start, limit, step):\n",
    "        model=gensim.models.LdaMulticore(corpus=corpus, id2word=dictionary, num_topics=num_topics)\n",
    "        model_list.append(model)\n",
    "        coherencemodel = CoherenceModel(model=model, texts=texts, dictionary=dictionary, coherence='c_v')\n",
    "        coherence_values.append(coherencemodel.get_coherence())\n",
    "\n",
    "    return model_list, coherence_values\n"
   ]
  },
  {
   "cell_type": "code",
   "execution_count": 63,
   "metadata": {},
   "outputs": [
    {
     "ename": "TypeError",
     "evalue": "'LdaModel' object is not callable",
     "output_type": "error",
     "traceback": [
      "\u001b[0;31m---------------------------------------------------------------------------\u001b[0m",
      "\u001b[0;31mTypeError\u001b[0m                                 Traceback (most recent call last)",
      "Cell \u001b[0;32mIn[63], line 1\u001b[0m\n\u001b[0;32m----> 1\u001b[0m model_list, coherence_values \u001b[39m=\u001b[39m compute_coherence_values(dictionary, corpus, headlines, limit\u001b[39m=\u001b[39;49m\u001b[39m40\u001b[39;49m, start\u001b[39m=\u001b[39;49m\u001b[39m2\u001b[39;49m, step\u001b[39m=\u001b[39;49m\u001b[39m6\u001b[39;49m)\n",
      "Cell \u001b[0;32mIn[62], line 5\u001b[0m, in \u001b[0;36mcompute_coherence_values\u001b[0;34m(dictionary, corpus, texts, limit, start, step)\u001b[0m\n\u001b[1;32m      3\u001b[0m model_list \u001b[39m=\u001b[39m []\n\u001b[1;32m      4\u001b[0m \u001b[39mfor\u001b[39;00m num_topics \u001b[39min\u001b[39;00m \u001b[39mrange\u001b[39m(start, limit, step):\n\u001b[0;32m----> 5\u001b[0m     model\u001b[39m=\u001b[39mlda(num_topics\u001b[39m=\u001b[39;49mnum_topics, corpus\u001b[39m=\u001b[39;49mcorpus, id2word\u001b[39m=\u001b[39;49mdictionary, passes\u001b[39m=\u001b[39;49m\u001b[39m10\u001b[39;49m, random_state\u001b[39m=\u001b[39;49m\u001b[39m42\u001b[39;49m)\n\u001b[1;32m      6\u001b[0m     model_list\u001b[39m.\u001b[39mappend(model)\n\u001b[1;32m      7\u001b[0m     coherencemodel \u001b[39m=\u001b[39m CoherenceModel(model\u001b[39m=\u001b[39mmodel, texts\u001b[39m=\u001b[39mtexts, dictionary\u001b[39m=\u001b[39mdictionary, coherence\u001b[39m=\u001b[39m\u001b[39m'\u001b[39m\u001b[39mc_v\u001b[39m\u001b[39m'\u001b[39m)\n",
      "\u001b[0;31mTypeError\u001b[0m: 'LdaModel' object is not callable"
     ]
    }
   ],
   "source": [
    "model_list, coherence_values = compute_coherence_values(dictionary, corpus, headlines, limit=40, start=2, step=6)\n"
   ]
  },
  {
   "cell_type": "code",
   "execution_count": 61,
   "metadata": {},
   "outputs": [
    {
     "data": {
      "image/png": "[encoded data removed]",
      "text/plain": [
       "<Figure size 640x480 with 1 Axes>"
      ]
     },
     "metadata": {},
     "output_type": "display_data"
    }
   ],
   "source": [
    "import matplotlib.pyplot as plt\n",
    "limit=80; start=2; step=6;\n",
    "x = range(start, limit, step)\n",
    "plt.plot(x, coherence_values)\n",
    "plt.xlabel(\"Num Topics\")\n",
    "plt.ylabel(\"Coherence score\")\n",
    "plt.legend((\"coherence_values\"), loc='best')\n",
    "plt.show()"
   ]
  },
  {
   "cell_type": "code",
   "execution_count": 43,
   "metadata": {},
   "outputs": [
    {
     "name": "stdout",
     "output_type": "stream",
     "text": [
      "coherence:  0.3812996613524041\n"
     ]
    }
   ],
   "source": [
    "coherence_model = CoherenceModel(model=lda, texts=headlines, dictionary=dictionary, coherence='c_v')\n",
    "coherence = coherence_model.get_coherence()\n",
    "print(\"coherence: \", coherence)"
   ]
  },
  {
   "cell_type": "code",
   "execution_count": 42,
   "metadata": {},
   "outputs": [],
   "source": [
    "total_data.to_parquet(\"../data/processed/news-consolidated-v3.parquet\")"
   ]
  }
 ],
 "metadata": {
  "kernelspec": {
   "display_name": "base",
   "language": "python",
   "name": "python3"
  },
  "language_info": {
   "codemirror_mode": {
    "name": "ipython",
    "version": 3
   },
   "file_extension": ".py",
   "mimetype": "text/x-python",
   "name": "python",
   "nbconvert_exporter": "python",
   "pygments_lexer": "ipython3",
   "version": "3.9.12"
  },
  "orig_nbformat": 4,
  "vscode": {
   "interpreter": {
    "hash": "0a3870566885d8713b456c7b616bb4ec819c6611b841c812a534b80b621588a4"
   }
  }
 },
 "nbformat": 4,
 "nbformat_minor": 2
}
