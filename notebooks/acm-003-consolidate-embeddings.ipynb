{
 "cells": [
  {
   "cell_type": "code",
   "execution_count": 1,
   "metadata": {},
   "outputs": [],
   "source": [
    "%load_ext autoreload\n",
    "%autoreload 2"
   ]
  },
  {
   "cell_type": "code",
   "execution_count": 2,
   "metadata": {},
   "outputs": [],
   "source": [
    "import pandas as pd"
   ]
  },
  {
   "cell_type": "code",
   "execution_count": 5,
   "metadata": {},
   "outputs": [
    {
     "name": "stdout",
     "output_type": "stream",
     "text": [
      "total 67952\n",
      "-rw-r--r--@ 1 anthony  staff   4.0M Feb 11 14:18 climateWithEmbeds.parquet\n",
      "-rw-r--r--@ 1 anthony  staff    26M Feb 11 14:34 filteredAbcNewsWithEmbeds.parquet\n",
      "-rw-r--r--@ 1 anthony  staff   2.8M Feb 11 15:56 naturewithembeds.parquet\n",
      "-rw-r--r--@ 1 anthony  staff    55K Feb 11 16:30 newswithoutembeds.parquet\n"
     ]
    }
   ],
   "source": [
    "! ls -lh ../data/processed"
   ]
  },
  {
   "cell_type": "code",
   "execution_count": 33,
   "metadata": {},
   "outputs": [
    {
     "data": {
      "text/html": [
       "<div>\n",
       "<style scoped>\n",
       "    .dataframe tbody tr th:only-of-type {\n",
       "        vertical-align: middle;\n",
       "    }\n",
       "\n",
       "    .dataframe tbody tr th {\n",
       "        vertical-align: top;\n",
       "    }\n",
       "\n",
       "    .dataframe thead th {\n",
       "        text-align: right;\n",
       "    }\n",
       "</style>\n",
       "<table border=\"1\" class=\"dataframe\">\n",
       "  <thead>\n",
       "    <tr style=\"text-align: right;\">\n",
       "      <th></th>\n",
       "      <th>id</th>\n",
       "      <th>source</th>\n",
       "      <th>date</th>\n",
       "      <th>headline</th>\n",
       "      <th>embedding</th>\n",
       "      <th>url</th>\n",
       "    </tr>\n",
       "  </thead>\n",
       "  <tbody>\n",
       "    <tr>\n",
       "      <th>0</th>\n",
       "      <td>0</td>\n",
       "      <td>abc</td>\n",
       "      <td>2003-02-19</td>\n",
       "      <td>a g calls for infrastructure protection summit</td>\n",
       "      <td>[0.42550426721572876, 0.5782315135002136, 0.09...</td>\n",
       "      <td>null</td>\n",
       "    </tr>\n",
       "    <tr>\n",
       "      <th>1</th>\n",
       "      <td>1</td>\n",
       "      <td>abc</td>\n",
       "      <td>2003-02-19</td>\n",
       "      <td>epa still trying to recover chemical clean up ...</td>\n",
       "      <td>[0.33238619565963745, -0.3517177700996399, 0.5...</td>\n",
       "      <td>null</td>\n",
       "    </tr>\n",
       "    <tr>\n",
       "      <th>2</th>\n",
       "      <td>2</td>\n",
       "      <td>abc</td>\n",
       "      <td>2003-02-19</td>\n",
       "      <td>expressions of interest sought to build livestock</td>\n",
       "      <td>[0.4847770035266876, 0.10000099241733551, -0.0...</td>\n",
       "      <td>null</td>\n",
       "    </tr>\n",
       "    <tr>\n",
       "      <th>3</th>\n",
       "      <td>3</td>\n",
       "      <td>abc</td>\n",
       "      <td>2003-02-19</td>\n",
       "      <td>iraq to pay for own rebuilding white house</td>\n",
       "      <td>[0.4847399592399597, 0.20435450971126556, 0.19...</td>\n",
       "      <td>null</td>\n",
       "    </tr>\n",
       "    <tr>\n",
       "      <th>4</th>\n",
       "      <td>4</td>\n",
       "      <td>abc</td>\n",
       "      <td>2003-02-19</td>\n",
       "      <td>meeting to focus on broken hill water woes</td>\n",
       "      <td>[0.3507457375526428, 0.43837735056877136, -0.0...</td>\n",
       "      <td>null</td>\n",
       "    </tr>\n",
       "  </tbody>\n",
       "</table>\n",
       "</div>"
      ],
      "text/plain": [
       "   id source       date                                           headline  \\\n",
       "0   0    abc 2003-02-19     a g calls for infrastructure protection summit   \n",
       "1   1    abc 2003-02-19  epa still trying to recover chemical clean up ...   \n",
       "2   2    abc 2003-02-19  expressions of interest sought to build livestock   \n",
       "3   3    abc 2003-02-19         iraq to pay for own rebuilding white house   \n",
       "4   4    abc 2003-02-19         meeting to focus on broken hill water woes   \n",
       "\n",
       "                                           embedding   url  \n",
       "0  [0.42550426721572876, 0.5782315135002136, 0.09...  null  \n",
       "1  [0.33238619565963745, -0.3517177700996399, 0.5...  null  \n",
       "2  [0.4847770035266876, 0.10000099241733551, -0.0...  null  \n",
       "3  [0.4847399592399597, 0.20435450971126556, 0.19...  null  \n",
       "4  [0.3507457375526428, 0.43837735056877136, -0.0...  null  "
      ]
     },
     "execution_count": 33,
     "metadata": {},
     "output_type": "execute_result"
    }
   ],
   "source": [
    "paths = {\n",
    "    \"climate-db\": \"climateWithEmbeds.parquet\",\n",
    "    \"abc\": \"filteredAbcNewsWithEmbeds.parquet\",\n",
    "    \"nature\": \"naturewithembeds.parquet\",\n",
    "    \"news-api\": \"newswithoutembeds.parquet\",\n",
    "}\n",
    "\n",
    "dfs = {\n",
    "    name: pd.read_parquet(f\"../data/processed/{path}\") for name, path in paths.items()\n",
    "}\n",
    "\n",
    "for name in dfs.keys():\n",
    "    dfs[name][\"source\"] = name\n",
    "\n",
    "df = pd.concat(dfs.values(), ignore_index=True)\n",
    "df[\"date\"] = pd.to_datetime(df[\"date\"])\n",
    "# there are 642 articles in climate-db that are empty\n",
    "df = df[[\"source\", \"date\", \"headline\", \"embedding\", \"url\"]].dropna()\n",
    "# sort by source, date, and headline; assign a unique id\n",
    "df = df.sort_values([\"source\", \"date\", \"headline\"]).reset_index(drop=True)\n",
    "df.insert(0, \"id\", df.index)\n",
    "df.head()"
   ]
  },
  {
   "cell_type": "code",
   "execution_count": 34,
   "metadata": {},
   "outputs": [],
   "source": [
    "df.to_parquet(\"../data/processed/news-consolidated-v1.parquet\", index=False)"
   ]
  },
  {
   "cell_type": "code",
   "execution_count": 36,
   "metadata": {},
   "outputs": [
    {
     "name": "stdout",
     "output_type": "stream",
     "text": [
      "total 131624\n",
      "-rw-r--r--@ 1 anthony  staff   4.0M Feb 11 14:18 climateWithEmbeds.parquet\n",
      "-rw-r--r--@ 1 anthony  staff    26M Feb 11 14:34 filteredAbcNewsWithEmbeds.parquet\n",
      "-rw-r--r--@ 1 anthony  staff   2.8M Feb 11 15:56 naturewithembeds.parquet\n",
      "-rw-r--r--@ 1 anthony  staff    31M Feb 11 17:26 news-consolidated-v1.parquet\n",
      "-rw-r--r--@ 1 anthony  staff    55K Feb 11 16:30 newswithoutembeds.parquet\n"
     ]
    }
   ],
   "source": [
    "! ls -lh ../data/processed"
   ]
  }
 ],
 "metadata": {
  "kernelspec": {
   "display_name": "venv",
   "language": "python",
   "name": "python3"
  },
  "language_info": {
   "codemirror_mode": {
    "name": "ipython",
    "version": 3
   },
   "file_extension": ".py",
   "mimetype": "text/x-python",
   "name": "python",
   "nbconvert_exporter": "python",
   "pygments_lexer": "ipython3",
   "version": "3.10.10"
  },
  "orig_nbformat": 4,
  "vscode": {
   "interpreter": {
    "hash": "f8085a60e42c023072d17e8faf1d8d0ad9249d2f1b5d3eff412e39ed57d07e9a"
   }
  }
 },
 "nbformat": 4,
 "nbformat_minor": 2
}
