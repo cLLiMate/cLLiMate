{
 "cells": [
  {
   "cell_type": "code",
   "execution_count": 21,
   "metadata": {},
   "outputs": [],
   "source": [
    "import pickle\n",
    "\n",
    "with open(\"../data/models/knn/v2/all.pkl\", \"rb\") as f:\n",
    "    model = pickle.load(f)"
   ]
  },
  {
   "cell_type": "code",
   "execution_count": 23,
   "metadata": {},
   "outputs": [],
   "source": [
    "import requests\n",
    "import shutil\n",
    "\n",
    "r = requests.get(\"http://localhost:4000/data/models/knn/v2/all.pkl\", stream=True)\n",
    "with open(\"/tmp/test.pkl\", \"wb\") as f:\n",
    "    shutil.copyfileobj(r.raw, f)\n",
    "\n",
    "with open(\"/tmp/test.pkl\", \"rb\") as f:\n",
    "    model = pickle.load(f)"
   ]
  }
 ],
 "metadata": {
  "kernelspec": {
   "display_name": "venv",
   "language": "python",
   "name": "python3"
  },
  "language_info": {
   "codemirror_mode": {
    "name": "ipython",
    "version": 3
   },
   "file_extension": ".py",
   "mimetype": "text/x-python",
   "name": "python",
   "nbconvert_exporter": "python",
   "pygments_lexer": "ipython3",
   "version": "3.10.10"
  },
  "orig_nbformat": 4,
  "vscode": {
   "interpreter": {
    "hash": "f8085a60e42c023072d17e8faf1d8d0ad9249d2f1b5d3eff412e39ed57d07e9a"
   }
  }
 },
 "nbformat": 4,
 "nbformat_minor": 2
}
