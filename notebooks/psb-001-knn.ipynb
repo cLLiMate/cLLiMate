{
 "cells": [
  {
   "attachments": {},
   "cell_type": "markdown",
   "metadata": {},
   "source": [
    "# KNN for looking up relevant news articles"
   ]
  },
  {
   "attachments": {},
   "cell_type": "markdown",
   "metadata": {},
   "source": [
    "## Imports"
   ]
  },
  {
   "cell_type": "code",
   "execution_count": 226,
   "metadata": {},
   "outputs": [],
   "source": [
    "import numpy as np\n",
    "import pandas as pd"
   ]
  },
  {
   "attachments": {},
   "cell_type": "markdown",
   "metadata": {},
   "source": [
    "## Load and Preprocess data"
   ]
  },
  {
   "cell_type": "code",
   "execution_count": 227,
   "metadata": {},
   "outputs": [],
   "source": [
    "path_to_data = \"../data/intermediate/headlines_with_embeddings.parquet\"\n",
    "\n",
    "# read headlines from parquet file\n",
    "data = pd.read_parquet(path_to_data)"
   ]
  },
  {
   "cell_type": "code",
   "execution_count": 228,
   "metadata": {},
   "outputs": [],
   "source": [
    "# fetch headlines and their embeddings\n",
    "\n",
    "headlines = data.iloc[:, 0]\n",
    "embeddings = data.iloc[:, -1]\n",
    "\n",
    "# convert embeddings to numpy array\n",
    "headlines = np.array(headlines.tolist())\n",
    "embeddings = np.array(embeddings.tolist())"
   ]
  },
  {
   "attachments": {},
   "cell_type": "markdown",
   "metadata": {},
   "source": [
    "## KNN"
   ]
  },
  {
   "cell_type": "code",
   "execution_count": 229,
   "metadata": {},
   "outputs": [],
   "source": [
    "from sklearn.neighbors import NearestNeighbors"
   ]
  },
  {
   "cell_type": "code",
   "execution_count": 230,
   "metadata": {},
   "outputs": [],
   "source": [
    "# find 10 nearest non-self neighbors to each headline\n",
    "nbrs = NearestNeighbors(n_neighbors=11, algorithm=\"kd_tree\").fit(embeddings)\n",
    "distances, indices = nbrs.kneighbors(embeddings)"
   ]
  },
  {
   "attachments": {},
   "cell_type": "markdown",
   "metadata": {},
   "source": [
    "## Test functionality"
   ]
  },
  {
   "cell_type": "code",
   "execution_count": 231,
   "metadata": {},
   "outputs": [
    {
     "name": "stdout",
     "output_type": "stream",
     "text": [
      "Opinion | Playing Dumb on Climate Change \n",
      " ------------------ \n",
      "\n",
      "Opinion | Climate Change in Trump’s Age of Ignorance\n",
      "Opinion | To Make Headway on Climate Change, Let’s Change the Subject\n",
      "Opinion | Climate Change and the Exodus of Species\n",
      "Opinion | Can Geoegineering Fix Climate Change?\n",
      "Opinion | China and India Make Big Strides on Climate Change\n",
      "Losing Earth: The Decade We Almost Stopped Climate Change\n",
      "In the Fight Against Climate Change, Young Voices Speak Out\n",
      "Our Response to Climate Change Is Missing Something Big, Scientists Say\n",
      "Industry Awakens to Threat of Climate Change\n",
      "The Effects of Climate Change\n"
     ]
    }
   ],
   "source": [
    "test_headline = headlines[-1], embeddings[-1]\n",
    "\n",
    "# find the nearest neighbor to the test headline\n",
    "distances, indices = nbrs.kneighbors([test_headline[1]])\n",
    "\n",
    "# print the test headline\n",
    "print(test_headline[0], \"\\n ------------------ \\n\")\n",
    "\n",
    "# print the nearest neighbors\n",
    "for i in indices[0]:\n",
    "    print(headlines[i]) if i != indices[0][0] else None"
   ]
  },
  {
   "attachments": {},
   "cell_type": "markdown",
   "metadata": {},
   "source": [
    "## Function call to return top 10 non-self headlines for input embedding"
   ]
  },
  {
   "cell_type": "code",
   "execution_count": 232,
   "metadata": {},
   "outputs": [],
   "source": [
    "def fetch_KNN(input_headline, input_embedding):\n",
    "    # find the nearest neighbor to the test headline\n",
    "    distances, indices = nbrs.kneighbors([input_embedding])\n",
    "\n",
    "    # return the test headline and the nearest neighbors as json\n",
    "    return {\n",
    "        \"headline\": input_headline,\n",
    "        \"neighbors\": [\n",
    "            {\n",
    "                \"headline\": headlines[i],\n",
    "                \"distance\": distances[0][j],\n",
    "                \"url\": data.iloc[i][1],\n",
    "                \"date\": data.iloc[i][2],\n",
    "            }\n",
    "            for j, i in enumerate(indices[0])\n",
    "            if i != len(headlines) - 1\n",
    "        ],\n",
    "    }"
   ]
  },
  {
   "cell_type": "code",
   "execution_count": 233,
   "metadata": {},
   "outputs": [
    {
     "data": {
      "text/plain": [
       "{'headline': 'Opinion | Playing Dumb on Climate Change',\n",
       " 'neighbors': [{'headline': 'Opinion | Climate Change in Trump’s Age of Ignorance',\n",
       "   'distance': 0.4608647524748748,\n",
       "   'url': 'https://www.nytimes.com/2016/11/20/opinion/climate-change-in-trumps-age-of-ignorance.html',\n",
       "   'date': '2016-11-19 20:44:05'},\n",
       "  {'headline': 'Opinion | To Make Headway on Climate Change, Let’s Change the Subject',\n",
       "   'distance': 0.4948449900578245,\n",
       "   'url': 'https://www.nytimes.com/2019/05/30/opinion/climate-elections-democrats.html',\n",
       "   'date': '2019-05-30 10:00:06'},\n",
       "  {'headline': 'Opinion | Climate Change and the Exodus of Species',\n",
       "   'distance': 0.5306008554761565,\n",
       "   'url': 'https://www.nytimes.com/2011/09/27/opinion/climate-change-and-the-exodus-of-species.html',\n",
       "   'date': '2011-09-27 01:35:12'},\n",
       "  {'headline': 'Opinion | Can Geoegineering Fix Climate Change?',\n",
       "   'distance': 0.5325209060551198,\n",
       "   'url': 'https://www.nytimes.com/2021/10/01/opinion/climate-change-geoengineering.html',\n",
       "   'date': '2021-10-01 09:00:12'},\n",
       "  {'headline': 'Opinion | China and India Make Big Strides on Climate Change',\n",
       "   'distance': 0.5459988256759218,\n",
       "   'url': 'https://www.nytimes.com/2017/05/22/opinion/paris-agreement-climate-china-india.html',\n",
       "   'date': '2017-05-22 07:21:06'},\n",
       "  {'headline': 'Losing Earth: The Decade We Almost Stopped Climate Change',\n",
       "   'distance': 0.5551866522635757,\n",
       "   'url': 'https://www.nytimes.com/interactive/2018/08/01/magazine/climate-change-losing-earth.html',\n",
       "   'date': '2018-08-01 04:47:33'},\n",
       "  {'headline': 'In the Fight Against Climate Change, Young Voices Speak Out',\n",
       "   'distance': 0.556147930429636,\n",
       "   'url': 'https://www.nytimes.com/2021/11/15/climate/generation-climate.html',\n",
       "   'date': '2021-11-15 19:51:12'},\n",
       "  {'headline': 'Our Response to Climate Change Is Missing Something Big, Scientists Say',\n",
       "   'distance': 0.5575767384169434,\n",
       "   'url': 'https://www.nytimes.com/2021/06/10/climate/biodiversity-collapse-climate-change.html',\n",
       "   'date': '2021-06-10 13:01:59'},\n",
       "  {'headline': 'Industry Awakens to Threat of Climate Change',\n",
       "   'distance': 0.5655950999801037,\n",
       "   'url': 'https://www.nytimes.com/2014/01/24/science/earth/threat-to-bottom-line-spurs-action-on-climate.html',\n",
       "   'date': '2014-01-24 02:17:13'},\n",
       "  {'headline': 'The Effects of Climate Change',\n",
       "   'distance': 0.568740297242558,\n",
       "   'url': 'https://www.nytimes.com/2021/06/24/briefing/climate-change-drought-us-heat-wave.html',\n",
       "   'date': '2021-06-24 10:38:42'}]}"
      ]
     },
     "execution_count": 233,
     "metadata": {},
     "output_type": "execute_result"
    }
   ],
   "source": [
    "fetch_KNN(test_headline[0], test_headline[1])"
   ]
  }
 ],
 "metadata": {
  "kernelspec": {
   "display_name": "base",
   "language": "python",
   "name": "python3"
  },
  "language_info": {
   "codemirror_mode": {
    "name": "ipython",
    "version": 3
   },
   "file_extension": ".py",
   "mimetype": "text/x-python",
   "name": "python",
   "nbconvert_exporter": "python",
   "pygments_lexer": "ipython3",
   "version": "3.9.13"
  },
  "orig_nbformat": 4,
  "vscode": {
   "interpreter": {
    "hash": "38cca0c38332a56087b24af0bc80247f4fced29cb4f7f437d91dc159adec9c4e"
   }
  }
 },
 "nbformat": 4,
 "nbformat_minor": 2
}
