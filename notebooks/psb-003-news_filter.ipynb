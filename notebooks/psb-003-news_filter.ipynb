{
 "cells": [
  {
   "attachments": {},
   "cell_type": "markdown",
   "metadata": {},
   "source": [
    "# News Filter"
   ]
  },
  {
   "attachments": {},
   "cell_type": "markdown",
   "metadata": {},
   "source": [
    "## Imports"
   ]
  },
  {
   "cell_type": "code",
   "execution_count": 12,
   "metadata": {},
   "outputs": [],
   "source": [
    "import pandas as pd\n",
    "import numpy as np"
   ]
  },
  {
   "attachments": {},
   "cell_type": "markdown",
   "metadata": {},
   "source": [
    "# Load and Preprocess data"
   ]
  },
  {
   "cell_type": "code",
   "execution_count": 13,
   "metadata": {},
   "outputs": [],
   "source": [
    "path_to_climate_data = \"../data/processed/climateWithEmbeds.parquet\"\n",
    "path_to_news_data = \"../data/processed/abcNewsWithEmbeds.parquet\"\n",
    "\n",
    "# read headlines from parquet file\n",
    "climate_data = pd.read_parquet(path_to_climate_data)\n",
    "news_data = pd.read_parquet(path_to_news_data)\n",
    "\n",
    "# data schema: [id, date, headline, url, embedding]\n",
    "\n",
    "# fetch embeddings\n",
    "climate_embeddings = climate_data.iloc[:, -1]\n",
    "news_embeddings = news_data.iloc[:, -1]"
   ]
  },
  {
   "cell_type": "code",
   "execution_count": 38,
   "metadata": {},
   "outputs": [
    {
     "data": {
      "text/plain": [
       "1243598"
      ]
     },
     "execution_count": 38,
     "metadata": {},
     "output_type": "execute_result"
    }
   ],
   "source": [
    "# print lenght of news and climate data\n",
    "len(news_data)"
   ]
  },
  {
   "attachments": {},
   "cell_type": "markdown",
   "metadata": {},
   "source": [
    "## Create Filtering Layer"
   ]
  },
  {
   "cell_type": "code",
   "execution_count": 44,
   "metadata": {},
   "outputs": [],
   "source": [
    "# calculate midpoint of climate news embeddings\n",
    "midpoint = climate_embeddings.mean(axis=0)\n",
    "\n",
    "# calculate cosine similarity between news embeddings and midpoint\n",
    "news_cosine_similarity = news_embeddings.apply(\n",
    "    lambda x: x.dot(midpoint) / (np.linalg.norm(x) * np.linalg.norm(midpoint))\n",
    ")\n",
    "\n",
    "news_data[\"cosine_similarity\"] = news_cosine_similarity\n",
    "news_data = news_data.sort_values(by=\"cosine_similarity\", ascending=False)\n",
    "\n",
    "# filter news data by cosine similarity\n",
    "percent_threshold = 0.9\n",
    "\n",
    "filtered_news_data = news_data[news_data[\"cosine_similarity\"] > percent_threshold]"
   ]
  },
  {
   "cell_type": "code",
   "execution_count": 47,
   "metadata": {},
   "outputs": [
    {
     "data": {
      "text/plain": [
       "0.060099807172414234"
      ]
     },
     "execution_count": 47,
     "metadata": {},
     "output_type": "execute_result"
    }
   ],
   "source": [
    "len(filtered_news_data) / len(news_data)"
   ]
  },
  {
   "cell_type": "code",
   "execution_count": 48,
   "metadata": {},
   "outputs": [],
   "source": [
    "# store filtered news data to parquet file\n",
    "filtered_news_data.to_parquet(\"../data/processed/filteredAbcNewsWithEmbeds.parquet\")"
   ]
  }
 ],
 "metadata": {
  "kernelspec": {
   "display_name": "base",
   "language": "python",
   "name": "python3"
  },
  "language_info": {
   "codemirror_mode": {
    "name": "ipython",
    "version": 3
   },
   "file_extension": ".py",
   "mimetype": "text/x-python",
   "name": "python",
   "nbconvert_exporter": "python",
   "pygments_lexer": "ipython3",
   "version": "3.9.13"
  },
  "orig_nbformat": 4,
  "vscode": {
   "interpreter": {
    "hash": "38cca0c38332a56087b24af0bc80247f4fced29cb4f7f437d91dc159adec9c4e"
   }
  }
 },
 "nbformat": 4,
 "nbformat_minor": 2
}
