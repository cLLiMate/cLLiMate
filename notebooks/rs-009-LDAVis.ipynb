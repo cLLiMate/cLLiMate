{
 "cells": [
  {
   "cell_type": "code",
   "execution_count": 3,
   "metadata": {},
   "outputs": [],
   "source": [
    "import pandas as pd\n",
    "import numpy as np"
   ]
  },
  {
   "cell_type": "code",
   "execution_count": 5,
   "metadata": {},
   "outputs": [
    {
     "name": "stdout",
     "output_type": "stream",
     "text": [
      "   Unnamed: 0                                             topics      score\n",
      "0           0  [(0.30361468, 'climate'), (0.24107258, 'change...  -8.193566\n",
      "1           1  [(0.050904073, 'cost'), (0.047834627, 'forest'...  -8.966744\n",
      "2           2  [(0.092042096, 'action'), (0.0888979, 'plan'),...  -9.682544\n",
      "3           3  [(0.16531192, 'say'), (0.100059465, 'sea'), (0... -10.080515\n",
      "4           4  [(0.08891194, 'risk'), (0.061359864, 'health')... -10.164523\n"
     ]
    }
   ],
   "source": [
    "data = pd.read_csv(\"../data/intermediate/top_topics/psb-005-LDA_each_v1-total_data.csv\")\n",
    "print(data.head())"
   ]
  },
  {
   "cell_type": "code",
   "execution_count": 14,
   "metadata": {},
   "outputs": [],
   "source": [
    "topic = data[\"topics\"].apply(lambda x: eval(x))"
   ]
  },
  {
   "cell_type": "code",
   "execution_count": 20,
   "metadata": {},
   "outputs": [
    {
     "name": "stdout",
     "output_type": "stream",
     "text": [
      "['climate', 'change', 'climate_change', 'new', 'co', 'call', 'power', 'may', 'environmental', 'use', 'uk', 'back', 'regional', 'rainfall', 'mean', 'zealand', 'law', 'application', 'likely', 'push']\n",
      "['cost', 'forest', 'southern', 'south', 'event', 'election', 'day', 'national', 'like', 'work', 'set', 'east', 'go', 'crop', 'west', 'ahead', 'mid', 'fall', 'biggest', 'start']\n",
      "['high', 'policy', 'non', 'face', 'benefit', 'issue', 'field', 'point', 'good', 'rule', 'hot', 'urge', 'le', 'growing', 'kid', 'care', 'regime', 'infrastructure', 'primary', 'survey']\n"
     ]
    }
   ],
   "source": [
    "words = topic.apply(lambda x: [i[1] for i in x])\n",
    "print(words[0])\n",
    "print(words[1])\n",
    "print(words[len(words) - 1])"
   ]
  }
 ],
 "metadata": {
  "kernelspec": {
   "display_name": "Python 3",
   "language": "python",
   "name": "python3"
  },
  "language_info": {
   "codemirror_mode": {
    "name": "ipython",
    "version": 3
   },
   "file_extension": ".py",
   "mimetype": "text/x-python",
   "name": "python",
   "nbconvert_exporter": "python",
   "pygments_lexer": "ipython3",
   "version": "3.8.4"
  },
  "orig_nbformat": 4,
  "vscode": {
   "interpreter": {
    "hash": "082e9a3bcad0a290d0001e938aa60b99250c6c2ef33a923c00b70f9826caf4b7"
   }
  }
 },
 "nbformat": 4,
 "nbformat_minor": 2
}
